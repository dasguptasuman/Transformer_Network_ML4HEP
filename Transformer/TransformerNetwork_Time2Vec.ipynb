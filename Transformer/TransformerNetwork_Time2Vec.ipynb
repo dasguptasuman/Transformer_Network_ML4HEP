{
 "cells": [
  {
   "cell_type": "code",
   "execution_count": 1,
   "id": "e89caf55",
   "metadata": {},
   "outputs": [],
   "source": [
    "import numpy as np\n",
    "# Train a model to classify real pulses vs. noise\n",
    "import tensorflow as tf\n",
    "from tensorflow.keras.layers import Input, LSTM, Dense\n",
    "from tensorflow.keras.models import Model\n",
    "import matplotlib.pyplot as plt\n",
    "from sklearn.metrics import roc_curve, auc\n",
    "from sklearn.metrics import precision_recall_curve\n",
    "from sklearn.metrics import average_precision_score\n",
    "import awkward as ak\n",
    "from tensorflow.keras.layers import Dropout\n",
    "from tensorflow import keras\n",
    "from tensorflow.keras import layers"
   ]
  },
  {
   "cell_type": "code",
   "execution_count": 2,
   "id": "006f15f1",
   "metadata": {},
   "outputs": [],
   "source": [
    "num_events = 50000\n",
    "num_samples = 10\n",
    "xmin = 1\n",
    "xmax = 10"
   ]
  },
  {
   "cell_type": "code",
   "execution_count": 3,
   "id": "a931c4a1",
   "metadata": {},
   "outputs": [],
   "source": [
    "def plot_timesamples(ax, time, emsignal_list, noisedata_list):\n",
    "    #fig, ax = plt.subplots()\n",
    "    for i, emsignal in enumerate(emsignal_list):\n",
    "        noisedata = noisedata_list[i][1:]\n",
    "        ax.plot(time, emsignal[1:], label=f'EM pulse' if i==1 else None, color='blue')\n",
    "        ax.plot(time, noisedata, label=f'noise'  if i==1 else None,color='orange')\n",
    "    ax.set_xlabel('Time (ns)')\n",
    "    ax.set_ylabel('Amplitude (arb. units)')\n",
    "    ax.legend()"
   ]
  },
  {
   "cell_type": "code",
   "execution_count": 4,
   "id": "d9267c9a",
   "metadata": {},
   "outputs": [
    {
     "name": "stdout",
     "output_type": "stream",
     "text": [
      "[[-0.13500901 -0.06486101 -0.24207319 ... -0.33857177 -0.65531789\n",
      "  -0.59965165]\n",
      " [-1.         -0.44654846  0.04011444 ... -0.00468594  0.082898\n",
      "   0.16267521]\n",
      " [ 0.12382481  0.06464252  0.20023386 ...  0.91687229  1.\n",
      "   0.97295958]\n",
      " ...\n",
      " [ 0.03826011 -0.74802831 -0.74012889 ...  0.94438525  0.71223759\n",
      "   0.53373214]\n",
      " [ 0.56940722  0.05372832  0.26732516 ...  0.17160948  0.07397752\n",
      "  -0.28824042]\n",
      " [-0.43647409 -0.26998941  0.17765244 ...  0.76181932  0.87472013\n",
      "   0.83904154]]\n",
      "Printing y_real\n",
      "[[1.]\n",
      " [1.]\n",
      " [1.]\n",
      " ...\n",
      " [1.]\n",
      " [1.]\n",
      " [1.]]\n"
     ]
    },
    {
     "data": {
      "image/png": "[encoded data removed]",
      "text/plain": [
       "<Figure size 432x288 with 1 Axes>"
      ]
     },
     "metadata": {
      "needs_background": "light"
     },
     "output_type": "display_data"
    },
    {
     "data": {
      "image/png": "[encoded data removed]",
      "text/plain": [
       "<Figure size 432x288 with 1 Axes>"
      ]
     },
     "metadata": {
      "needs_background": "light"
     },
     "output_type": "display_data"
    }
   ],
   "source": [
    "import uproot\n",
    "### Energy = 1 GeV\n",
    "dirName = \"noise_0p15/0p15GeV/\"\n",
    "root_file = uproot.open(f\"/eos/user/d/dasgupsu/SWAN_projects/ECAL_noise_EM_discrimination/data/outputPSWithNoPU_withNoise_0.150000_0.15_v1.root\")\n",
    "tree = root_file[\"Samples\"]\n",
    "arrays = tree.arrays([\"samples\", \"ysamples\",\"samplesNoise\",\"ysamplesNoise\"])\n",
    "X_real = ak.to_numpy(arrays[\"samples\"])\n",
    "y_real = ak.to_numpy(arrays[\"ysamples\"])\n",
    "X_noise = ak.to_numpy(arrays[\"samplesNoise\"])\n",
    "y_noise = ak.to_numpy(arrays[\"ysamplesNoise\"])\n",
    "\n",
    "print(X_real) \n",
    "print(\"Printing y_real\")\n",
    "print(y_real)\n",
    "\n",
    "data = np.concatenate([X_real, X_noise]) ### makes it [2*num_events,num_samples]\n",
    "labels = np.concatenate([y_real,y_noise])\n",
    "\n",
    "# Shuffle data and labels together\n",
    "## Important to shuffle since I take some fraction of events so it should not happen that all the real events \n",
    "## are cluttered at the beginning\n",
    "shuffle_indices = np.random.permutation(len(data))\n",
    "data = data[shuffle_indices]\n",
    "labels = labels[shuffle_indices]\n",
    "\n",
    "fig, ax = plt.subplots()\n",
    "import awkward as ak\n",
    "\n",
    "num_events = ak.num(X_real, axis=0)\n",
    "t_events = np.zeros((num_events, num_samples))\n",
    "for i in range(num_events):\n",
    "    t_event = np.linspace(xmin, xmax, 10)\n",
    "    t_events[i] = t_event\n",
    "###replace this block with actual time variable\n",
    "\n",
    "fig, ax = plt.subplots()\n",
    "ev_numbers = [1, 2, 3, 4, 5, 6, 7, 8, 9 , 10, 100, 200, 300]# list of event numbers to plot\n",
    "#ev_numbers = [1500]\n",
    "emsignal_list = [X_real[ev_number] for ev_number in ev_numbers]\n",
    "noisedata_list = [X_noise[ev_number] for ev_number in ev_numbers]\n",
    "#plot_timesamples(ax, t_events[ev_numbers[0]], emsignal_list, noisedata_list)\n",
    "#plt.show()"
   ]
  },
  {
   "cell_type": "code",
   "execution_count": 6,
   "id": "ab193566",
   "metadata": {},
   "outputs": [
    {
     "name": "stdout",
     "output_type": "stream",
     "text": [
      "number of rows in data is 200000\n",
      "number of rows in data is 11\n",
      "Size of training data is 140000\n",
      "number of elements in data : training data : test data : 200000 : 140000 : 60000\n"
     ]
    }
   ],
   "source": [
    "import awkward as ak\n",
    "\n",
    "num_events_data = ak.num(data, axis=0)\n",
    "print(f'number of rows in data is {num_events_data}')\n",
    "\n",
    "\n",
    "ntimeSamples_data = ak.num(data, axis=1)\n",
    "print(f'number of rows in data is {ntimeSamples_data[0]}') ## just take the 0th event\n",
    "\n",
    "# Split into train and test sets\n",
    "train_size = int(0.7 * num_events_data) ###times 2 because the noise is also in the same dataset, so it is 2*num_events\n",
    "train_data = data[:train_size]\n",
    "train_labels = labels[:train_size]\n",
    "test_data = data[train_size:]\n",
    "test_labels = labels[train_size:]\n",
    "\n",
    "print(f'Size of training data is {train_size}')\n",
    "\n",
    "'''\n",
    "print(train_size)\n",
    "print(train_data)\n",
    "print(test_data)\n",
    "'''\n",
    "\n",
    "print(f'number of elements in data : training data : test data : {len(data)} : {len(train_data)} : {len(test_data)}')"
   ]
  },
  {
   "cell_type": "code",
   "execution_count": 7,
   "id": "3422fd22",
   "metadata": {},
   "outputs": [],
   "source": [
    "x_train = train_data\n",
    "y_train = train_labels\n",
    "#n_classes = len(np.unique(y_train))\n",
    "x_test = test_data\n",
    "y_test = test_labels"
   ]
  },
  {
   "cell_type": "code",
   "execution_count": 8,
   "id": "ebf100ca",
   "metadata": {},
   "outputs": [],
   "source": [
    "#x_train = x_train.reshape((x_train.shape[0], x_train.shape[1], 1))\n",
    "#x_test = x_test.reshape((x_test.shape[0], x_test.shape[1], 1))"
   ]
  },
  {
   "cell_type": "code",
   "execution_count": 9,
   "id": "62b2665d",
   "metadata": {},
   "outputs": [],
   "source": [
    "y_train = y_train.reshape((y_train.shape[0],1))\n",
    "y_test = y_test.reshape((y_test.shape[0],1))"
   ]
  },
  {
   "cell_type": "code",
   "execution_count": 10,
   "id": "42616989",
   "metadata": {},
   "outputs": [],
   "source": [
    "from tensorflow import keras\n",
    "from tensorflow.keras import layers"
   ]
  },
  {
   "cell_type": "code",
   "execution_count": 11,
   "id": "02928636",
   "metadata": {},
   "outputs": [],
   "source": [
    "class Time2Vec(layers.Layer):\n",
    "\n",
    "    def __init__(self, kernel, activation):\n",
    "        super(Time2Vec, self).__init__()\n",
    "        if activation in [\"sin\", \"cos\"]:\n",
    "            activation = {\"sin\": tf.math.sin, \"cos\": tf.math.cos}[activation]\n",
    "\n",
    "        self.k = kernel - 1\n",
    "        self.p_activation = activation\n",
    "\n",
    "    def build(self, input_shape):\n",
    "\n",
    "        # Linear component\n",
    "        self.w_b = self.add_weight(\n",
    "            shape=(1, input_shape[1], 1), initializer=\"uniform\", trainable=True\n",
    "        )\n",
    "\n",
    "        self.b_b = self.add_weight(\n",
    "            shape=(1, input_shape[1], 1), initializer=\"uniform\", trainable=True\n",
    "        )\n",
    "\n",
    "        # Periodic components\n",
    "        self.freq = self.add_weight(\n",
    "            shape=(1, input_shape[1], self.k), initializer=\"uniform\", trainable=True\n",
    "        )\n",
    "\n",
    "        self.phase = self.add_weight(\n",
    "            shape=(1, input_shape[1], self.k), initializer=\"uniform\", trainable=True\n",
    "        )\n",
    "\n",
    "        #super().build(input_shape)\n",
    "\n",
    "    def call(self, inputs: tf.Tensor, **kwargs) -> tf.Tensor:\n",
    "\n",
    "        inputs = tf.expand_dims(inputs, axis=-1) #(batch_size, feature_size, 1)\n",
    "\n",
    "        # Linear components\n",
    "        lin = (\n",
    "            # Multiply each time dimension with the corresponding linear time component\n",
    "            tf.multiply(inputs, self.w_b)\n",
    "            # Bias component for each time dimension\n",
    "            + self.b_b\n",
    "        )\n",
    "\n",
    "        # Periodic components\n",
    "        # Multiply each time dimension (M, D, H, mins, etc.) with the corresponding frequency vector\n",
    "        per = tf.multiply(tf.tile(inputs, multiples=[1, 1, self.k]), self.freq)\n",
    "        # Phase vector for each time dimension\n",
    "        per = self.p_activation(per + self.phase)\n",
    "        return tf.concat([lin, per], -1)\n",
    "\n",
    "    def compute_output_shape(self, input_shape: tuple) -> tuple:\n",
    "       \n",
    "        return (input_shape[0], input_shape[1], self.k + 1)\n"
   ]
  },
  {
   "cell_type": "code",
   "execution_count": 12,
   "id": "cf95118d",
   "metadata": {},
   "outputs": [],
   "source": [
    "def transformer_encoder(inputs, head_size, num_heads, ff_dim, dropout=0):\n",
    "    # Normalization and Attention\n",
    "    x = layers.LayerNormalization(epsilon=1e-6)(inputs)\n",
    "    x = layers.MultiHeadAttention(\n",
    "        key_dim=head_size, num_heads=num_heads, dropout=dropout\n",
    "    )(x, x)\n",
    "    x = layers.Dropout(dropout)(x)\n",
    "    res = x + inputs\n",
    "\n",
    "    # Feed Forward Part\n",
    "    x = layers.LayerNormalization(epsilon=1e-6)(res)\n",
    "    x = layers.Conv1D(filters=ff_dim, kernel_size=1, activation=\"relu\")(x)\n",
    "    x = layers.Dropout(dropout)(x)\n",
    "    x = layers.Conv1D(filters=inputs.shape[-1], kernel_size=1)(x)\n",
    "    return x + res"
   ]
  },
  {
   "cell_type": "code",
   "execution_count": 13,
   "id": "780c1ba6",
   "metadata": {},
   "outputs": [],
   "source": [
    "def build_model(\n",
    "    input_shape,\n",
    "    head_size,\n",
    "    num_heads,\n",
    "    ff_dim,\n",
    "    num_transformer_blocks,\n",
    "    mlp_units,\n",
    "    dropout=0,\n",
    "    mlp_dropout=0,\n",
    "):\n",
    "    inputs = keras.Input(shape=input_shape)\n",
    "    x = inputs\n",
    "    x = Time2Vec(64, \"sin\")(x)\n",
    "    print(\"After Time2Vec embedding:\", x.shape)\n",
    "    for _ in range(num_transformer_blocks):\n",
    "        x = transformer_encoder(x, head_size, num_heads, ff_dim, dropout)\n",
    "\n",
    "    x = layers.GlobalAveragePooling1D(data_format=\"channels_first\")(x)\n",
    "    for dim in mlp_units:\n",
    "        x = layers.Dense(dim, activation=\"relu\")(x)\n",
    "        x = layers.Dropout(mlp_dropout)(x)\n",
    "    outputs = layers.Dense(1, activation=\"sigmoid\")(x)\n",
    "    return keras.Model(inputs, outputs)"
   ]
  },
  {
   "cell_type": "code",
   "execution_count": 14,
   "id": "06ce0865",
   "metadata": {},
   "outputs": [
    {
     "name": "stdout",
     "output_type": "stream",
     "text": [
      "After Time2Vec embedding: (None, 11, 64)\n",
      "Model: \"model\"\n",
      "__________________________________________________________________________________________________\n",
      " Layer (type)                   Output Shape         Param #     Connected to                     \n",
      "==================================================================================================\n",
      " input_1 (InputLayer)           [(None, 11)]         0           []                               \n",
      "                                                                                                  \n",
      " time2_vec (Time2Vec)           (None, 11, 64)       1408        ['input_1[0][0]']                \n",
      "                                                                                                  \n",
      " layer_normalization (LayerNorm  (None, 11, 64)      128         ['time2_vec[0][0]']              \n",
      " alization)                                                                                       \n",
      "                                                                                                  \n",
      " multi_head_attention (MultiHea  (None, 11, 64)      265280      ['layer_normalization[0][0]',    \n",
      " dAttention)                                                      'layer_normalization[0][0]']    \n",
      "                                                                                                  \n",
      " dropout (Dropout)              (None, 11, 64)       0           ['multi_head_attention[0][0]']   \n",
      "                                                                                                  \n",
      " tf.__operators__.add (TFOpLamb  (None, 11, 64)      0           ['dropout[0][0]',                \n",
      " da)                                                              'time2_vec[0][0]']              \n",
      "                                                                                                  \n",
      " layer_normalization_1 (LayerNo  (None, 11, 64)      128         ['tf.__operators__.add[0][0]']   \n",
      " rmalization)                                                                                     \n",
      "                                                                                                  \n",
      " conv1d (Conv1D)                (None, 11, 4)        260         ['layer_normalization_1[0][0]']  \n",
      "                                                                                                  \n",
      " dropout_1 (Dropout)            (None, 11, 4)        0           ['conv1d[0][0]']                 \n",
      "                                                                                                  \n",
      " conv1d_1 (Conv1D)              (None, 11, 64)       320         ['dropout_1[0][0]']              \n",
      "                                                                                                  \n",
      " tf.__operators__.add_1 (TFOpLa  (None, 11, 64)      0           ['conv1d_1[0][0]',               \n",
      " mbda)                                                            'tf.__operators__.add[0][0]']   \n",
      "                                                                                                  \n",
      " layer_normalization_2 (LayerNo  (None, 11, 64)      128         ['tf.__operators__.add_1[0][0]'] \n",
      " rmalization)                                                                                     \n",
      "                                                                                                  \n",
      " multi_head_attention_1 (MultiH  (None, 11, 64)      265280      ['layer_normalization_2[0][0]',  \n",
      " eadAttention)                                                    'layer_normalization_2[0][0]']  \n",
      "                                                                                                  \n",
      " dropout_2 (Dropout)            (None, 11, 64)       0           ['multi_head_attention_1[0][0]'] \n",
      "                                                                                                  \n",
      " tf.__operators__.add_2 (TFOpLa  (None, 11, 64)      0           ['dropout_2[0][0]',              \n",
      " mbda)                                                            'tf.__operators__.add_1[0][0]'] \n",
      "                                                                                                  \n",
      " layer_normalization_3 (LayerNo  (None, 11, 64)      128         ['tf.__operators__.add_2[0][0]'] \n",
      " rmalization)                                                                                     \n",
      "                                                                                                  \n",
      " conv1d_2 (Conv1D)              (None, 11, 4)        260         ['layer_normalization_3[0][0]']  \n",
      "                                                                                                  \n",
      " dropout_3 (Dropout)            (None, 11, 4)        0           ['conv1d_2[0][0]']               \n",
      "                                                                                                  \n",
      " conv1d_3 (Conv1D)              (None, 11, 64)       320         ['dropout_3[0][0]']              \n",
      "                                                                                                  \n",
      " tf.__operators__.add_3 (TFOpLa  (None, 11, 64)      0           ['conv1d_3[0][0]',               \n",
      " mbda)                                                            'tf.__operators__.add_2[0][0]'] \n",
      "                                                                                                  \n",
      " layer_normalization_4 (LayerNo  (None, 11, 64)      128         ['tf.__operators__.add_3[0][0]'] \n",
      " rmalization)                                                                                     \n",
      "                                                                                                  \n",
      " multi_head_attention_2 (MultiH  (None, 11, 64)      265280      ['layer_normalization_4[0][0]',  \n",
      " eadAttention)                                                    'layer_normalization_4[0][0]']  \n",
      "                                                                                                  \n",
      " dropout_4 (Dropout)            (None, 11, 64)       0           ['multi_head_attention_2[0][0]'] \n",
      "                                                                                                  \n",
      " tf.__operators__.add_4 (TFOpLa  (None, 11, 64)      0           ['dropout_4[0][0]',              \n",
      " mbda)                                                            'tf.__operators__.add_3[0][0]'] \n",
      "                                                                                                  \n",
      " layer_normalization_5 (LayerNo  (None, 11, 64)      128         ['tf.__operators__.add_4[0][0]'] \n",
      " rmalization)                                                                                     \n",
      "                                                                                                  \n",
      " conv1d_4 (Conv1D)              (None, 11, 4)        260         ['layer_normalization_5[0][0]']  \n",
      "                                                                                                  \n",
      " dropout_5 (Dropout)            (None, 11, 4)        0           ['conv1d_4[0][0]']               \n",
      "                                                                                                  \n",
      " conv1d_5 (Conv1D)              (None, 11, 64)       320         ['dropout_5[0][0]']              \n",
      "                                                                                                  \n",
      " tf.__operators__.add_5 (TFOpLa  (None, 11, 64)      0           ['conv1d_5[0][0]',               \n",
      " mbda)                                                            'tf.__operators__.add_4[0][0]'] \n",
      "                                                                                                  \n",
      " layer_normalization_6 (LayerNo  (None, 11, 64)      128         ['tf.__operators__.add_5[0][0]'] \n",
      " rmalization)                                                                                     \n",
      "                                                                                                  \n",
      " multi_head_attention_3 (MultiH  (None, 11, 64)      265280      ['layer_normalization_6[0][0]',  \n",
      " eadAttention)                                                    'layer_normalization_6[0][0]']  \n",
      "                                                                                                  \n",
      " dropout_6 (Dropout)            (None, 11, 64)       0           ['multi_head_attention_3[0][0]'] \n"
     ]
    },
    {
     "name": "stdout",
     "output_type": "stream",
     "text": [
      "                                                                                                  \n",
      " tf.__operators__.add_6 (TFOpLa  (None, 11, 64)      0           ['dropout_6[0][0]',              \n",
      " mbda)                                                            'tf.__operators__.add_5[0][0]'] \n",
      "                                                                                                  \n",
      " layer_normalization_7 (LayerNo  (None, 11, 64)      128         ['tf.__operators__.add_6[0][0]'] \n",
      " rmalization)                                                                                     \n",
      "                                                                                                  \n",
      " conv1d_6 (Conv1D)              (None, 11, 4)        260         ['layer_normalization_7[0][0]']  \n",
      "                                                                                                  \n",
      " dropout_7 (Dropout)            (None, 11, 4)        0           ['conv1d_6[0][0]']               \n",
      "                                                                                                  \n",
      " conv1d_7 (Conv1D)              (None, 11, 64)       320         ['dropout_7[0][0]']              \n",
      "                                                                                                  \n",
      " tf.__operators__.add_7 (TFOpLa  (None, 11, 64)      0           ['conv1d_7[0][0]',               \n",
      " mbda)                                                            'tf.__operators__.add_6[0][0]'] \n",
      "                                                                                                  \n",
      " global_average_pooling1d (Glob  (None, 11)          0           ['tf.__operators__.add_7[0][0]'] \n",
      " alAveragePooling1D)                                                                              \n",
      "                                                                                                  \n",
      " dense (Dense)                  (None, 128)          1536        ['global_average_pooling1d[0][0]'\n",
      "                                                                 ]                                \n",
      "                                                                                                  \n",
      " dropout_8 (Dropout)            (None, 128)          0           ['dense[0][0]']                  \n",
      "                                                                                                  \n",
      " dense_1 (Dense)                (None, 1)            129         ['dropout_8[0][0]']              \n",
      "                                                                                                  \n",
      "==================================================================================================\n",
      "Total params: 1,067,537\n",
      "Trainable params: 1,067,537\n",
      "Non-trainable params: 0\n",
      "__________________________________________________________________________________________________\n",
      "Epoch 1/30\n",
      "1750/1750 [==============================] - 36s 16ms/step - loss: 0.5440 - accuracy: 0.7342 - val_loss: 0.5255 - val_accuracy: 0.7447\n",
      "Epoch 2/30\n",
      "1750/1750 [==============================] - 26s 15ms/step - loss: 0.5283 - accuracy: 0.7454 - val_loss: 0.5267 - val_accuracy: 0.7471\n",
      "Epoch 3/30\n",
      "1750/1750 [==============================] - 26s 15ms/step - loss: 0.5249 - accuracy: 0.7470 - val_loss: 0.5256 - val_accuracy: 0.7526\n",
      "Epoch 4/30\n",
      "1750/1750 [==============================] - 29s 16ms/step - loss: 0.5247 - accuracy: 0.7477 - val_loss: 0.5206 - val_accuracy: 0.7491\n",
      "Epoch 5/30\n",
      "1750/1750 [==============================] - 26s 15ms/step - loss: 0.5241 - accuracy: 0.7482 - val_loss: 0.5173 - val_accuracy: 0.7492\n",
      "Epoch 6/30\n",
      "1750/1750 [==============================] - 26s 15ms/step - loss: 0.5227 - accuracy: 0.7489 - val_loss: 0.5145 - val_accuracy: 0.7501\n",
      "Epoch 7/30\n",
      "1750/1750 [==============================] - 27s 15ms/step - loss: 0.5207 - accuracy: 0.7501 - val_loss: 0.5183 - val_accuracy: 0.7529\n",
      "Epoch 8/30\n",
      "1750/1750 [==============================] - 26s 15ms/step - loss: 0.5225 - accuracy: 0.7503 - val_loss: 0.5317 - val_accuracy: 0.7511\n",
      "Epoch 9/30\n",
      "1750/1750 [==============================] - 27s 15ms/step - loss: 0.5203 - accuracy: 0.7505 - val_loss: 0.5173 - val_accuracy: 0.7512\n",
      "Epoch 10/30\n",
      "1750/1750 [==============================] - 27s 15ms/step - loss: 0.5203 - accuracy: 0.7513 - val_loss: 0.5177 - val_accuracy: 0.7545\n",
      "Epoch 11/30\n",
      "1750/1750 [==============================] - 26s 15ms/step - loss: 0.5209 - accuracy: 0.7502 - val_loss: 0.5150 - val_accuracy: 0.7536\n",
      "Epoch 12/30\n",
      "1750/1750 [==============================] - 26s 15ms/step - loss: 0.5187 - accuracy: 0.7532 - val_loss: 0.5384 - val_accuracy: 0.7494\n",
      "Epoch 13/30\n",
      "1750/1750 [==============================] - 27s 15ms/step - loss: 0.5185 - accuracy: 0.7524 - val_loss: 0.5410 - val_accuracy: 0.7499\n",
      "Epoch 14/30\n",
      "1750/1750 [==============================] - 26s 15ms/step - loss: 0.5176 - accuracy: 0.7526 - val_loss: 0.5274 - val_accuracy: 0.7514\n",
      "Epoch 15/30\n",
      "1750/1750 [==============================] - 26s 15ms/step - loss: 0.5164 - accuracy: 0.7534 - val_loss: 0.5109 - val_accuracy: 0.7544\n",
      "Epoch 16/30\n",
      "1750/1750 [==============================] - 27s 15ms/step - loss: 0.5154 - accuracy: 0.7548 - val_loss: 0.5233 - val_accuracy: 0.7535\n",
      "Epoch 17/30\n",
      "1750/1750 [==============================] - 27s 15ms/step - loss: 0.5158 - accuracy: 0.7546 - val_loss: 0.5148 - val_accuracy: 0.7536\n",
      "Epoch 18/30\n",
      "1750/1750 [==============================] - 27s 15ms/step - loss: 0.5140 - accuracy: 0.7559 - val_loss: 0.5173 - val_accuracy: 0.7516\n",
      "Epoch 19/30\n",
      "1750/1750 [==============================] - 27s 15ms/step - loss: 0.5139 - accuracy: 0.7555 - val_loss: 0.5102 - val_accuracy: 0.7536\n",
      "Epoch 20/30\n",
      "1750/1750 [==============================] - 27s 15ms/step - loss: 0.5137 - accuracy: 0.7555 - val_loss: 0.5111 - val_accuracy: 0.7546\n",
      "Epoch 21/30\n",
      "1750/1750 [==============================] - 27s 15ms/step - loss: 0.5138 - accuracy: 0.7549 - val_loss: 0.5085 - val_accuracy: 0.7571\n",
      "Epoch 22/30\n",
      "1750/1750 [==============================] - 26s 15ms/step - loss: 0.5126 - accuracy: 0.7552 - val_loss: 0.5177 - val_accuracy: 0.7490\n",
      "Epoch 23/30\n",
      "1750/1750 [==============================] - 26s 15ms/step - loss: 0.5125 - accuracy: 0.7553 - val_loss: 0.5167 - val_accuracy: 0.7550\n",
      "Epoch 24/30\n",
      "1750/1750 [==============================] - 26s 15ms/step - loss: 0.5132 - accuracy: 0.7548 - val_loss: 0.5088 - val_accuracy: 0.7569\n",
      "Epoch 25/30\n",
      "1750/1750 [==============================] - 27s 15ms/step - loss: 0.5120 - accuracy: 0.7561 - val_loss: 0.5198 - val_accuracy: 0.7522\n",
      "Epoch 26/30\n",
      "1750/1750 [==============================] - 27s 15ms/step - loss: 0.5118 - accuracy: 0.7553 - val_loss: 0.5249 - val_accuracy: 0.7534\n",
      "Epoch 27/30\n",
      "1750/1750 [==============================] - 26s 15ms/step - loss: 0.5115 - accuracy: 0.7555 - val_loss: 0.5146 - val_accuracy: 0.7547\n",
      "Epoch 28/30\n",
      "1750/1750 [==============================] - 26s 15ms/step - loss: 0.5111 - accuracy: 0.7569 - val_loss: 0.5078 - val_accuracy: 0.7582\n",
      "Epoch 29/30\n",
      "1750/1750 [==============================] - 27s 15ms/step - loss: 0.5119 - accuracy: 0.7565 - val_loss: 0.5183 - val_accuracy: 0.7560\n",
      "Epoch 30/30\n",
      "1750/1750 [==============================] - 27s 15ms/step - loss: 0.5109 - accuracy: 0.7569 - val_loss: 0.5108 - val_accuracy: 0.7556\n"
     ]
    }
   ],
   "source": [
    "input_shape = x_train.shape[1:]\n",
    "\n",
    "model = build_model(\n",
    "    input_shape,\n",
    "    head_size=256,\n",
    "    num_heads=4,\n",
    "    ff_dim=4,\n",
    "    num_transformer_blocks=4,\n",
    "    mlp_units=[128],\n",
    "    mlp_dropout=0.4,\n",
    "    dropout=0.25,\n",
    ")\n",
    "\n",
    "#model.compile(\n",
    "#    loss=\"sparse_categorical_crossentropy\",\n",
    "#    optimizer=keras.optimizers.Adam(learning_rate=1e-4),\n",
    "#    metrics=[\"sparse_categorical_accuracy\"],\n",
    "#)\n",
    "model.compile(optimizer='adam', loss='binary_crossentropy', metrics=['accuracy'])\n",
    "\n",
    "model.summary(expand_nested = True)\n",
    "\n",
    "callbacks = [keras.callbacks.EarlyStopping(patience=10, restore_best_weights=True)]\n",
    "\n",
    "history = model.fit(\n",
    "    x_train,\n",
    "    y_train,\n",
    "    validation_split=0.2,\n",
    "    epochs=30,\n",
    "    batch_size=64,\n",
    "    callbacks=callbacks,\n",
    ")\n",
    "\n",
    "# Save the model to a file\n",
    "#model.save('/eos/user/d/dasgupsu/SWAN_projects/ECAL_noise_EM_discrimination/model/timeSeries_TransformerNetorkmodel_v1.h5')\n",
    "#test_loss, test_acc = model.evaluate(x_test, y_test)\n",
    "#print(f'Test loss: {test_loss}, Test accuracy: {test_acc}')"
   ]
  },
  {
   "cell_type": "code",
   "execution_count": 25,
   "id": "5c154d1e",
   "metadata": {},
   "outputs": [
    {
     "name": "stdout",
     "output_type": "stream",
     "text": [
      "1875/1875 [==============================] - 15s 8ms/step - loss: 0.5036 - accuracy: 0.7589\n",
      "Test loss: 0.5036376118659973, Test accuracy: 0.7589333057403564\n"
     ]
    }
   ],
   "source": [
    "test_loss, test_acc = model.evaluate(x_test, y_test)\n",
    "print(f'Test loss: {test_loss}, Test accuracy: {test_acc}')"
   ]
  },
  {
   "cell_type": "code",
   "execution_count": 26,
   "id": "9bab98e7",
   "metadata": {},
   "outputs": [
    {
     "data": {
      "image/png": "[encoded data removed]",
      "text/plain": [
       "<Figure size 432x288 with 1 Axes>"
      ]
     },
     "metadata": {
      "needs_background": "light"
     },
     "output_type": "display_data"
    },
    {
     "data": {
      "image/png": "[encoded data removed]",
      "text/plain": [
       "<Figure size 432x288 with 1 Axes>"
      ]
     },
     "metadata": {
      "needs_background": "light"
     },
     "output_type": "display_data"
    }
   ],
   "source": [
    "# Plot accuracy\n",
    "plt.plot(history.history['accuracy'])\n",
    "plt.plot(history.history['val_accuracy'])\n",
    "plt.title('Model Accuracy')\n",
    "plt.ylabel('Accuracy')\n",
    "plt.xlabel('Epoch')\n",
    "plt.legend(['Train', 'Validation'], loc='upper left')\n",
    "plt.show()\n",
    "\n",
    "# Plot loss\n",
    "plt.plot(history.history['loss'])\n",
    "plt.plot(history.history['val_loss'])\n",
    "plt.title('Model Loss')\n",
    "plt.ylabel('Loss')\n",
    "plt.xlabel('Epoch')\n",
    "plt.legend(['Train', 'Validation'], loc='upper left')\n",
    "plt.show()"
   ]
  },
  {
   "cell_type": "code",
   "execution_count": 27,
   "id": "6aa0e88d",
   "metadata": {},
   "outputs": [
    {
     "name": "stdout",
     "output_type": "stream",
     "text": [
      "60000 and 60000\n",
      " predictions are [0.58231664 0.6704384  0.3244062  ... 0.61542314 0.17932798 0.08542572]\n"
     ]
    },
    {
     "data": {
      "image/png": "[encoded data removed]",
      "text/plain": [
       "<Figure size 432x288 with 1 Axes>"
      ]
     },
     "metadata": {
      "needs_background": "light"
     },
     "output_type": "display_data"
    }
   ],
   "source": [
    "# Make predictions on test data\n",
    "predictions = model.predict(x_test).flatten()\n",
    "# Convert predictions to binary labels\n",
    "binary_predictions = (predictions > 0.5).astype(int)\n",
    "\n",
    "print(f'{len(y_test)} and {len(binary_predictions)}')\n",
    "print(f\" predictions are {predictions}\")\n",
    "# Create scatter plot of true labels vs. predicted labels\n",
    "plt.scatter(y_test, predictions, alpha=0.1)\n",
    "plt.xlabel('True Labels')\n",
    "plt.ylabel('Predicted Labels')\n",
    "plt.title('True Labels vs. Predicted Labels')\n",
    "plt.show()"
   ]
  },
  {
   "cell_type": "code",
   "execution_count": 28,
   "id": "45580d1a",
   "metadata": {},
   "outputs": [
    {
     "name": "stdout",
     "output_type": "stream",
     "text": [
      "test labels are: [1. 1. 0. ... 1. 1. 0.]\n",
      "[0.3244062  0.2569985  0.5908317  ... 0.09029094 0.20265551 0.08542572]\n",
      "[0.58231664 0.6704384  0.87395734 ... 0.8992983  0.61542314 0.17932798]\n"
     ]
    },
    {
     "data": {
      "image/png": "[encoded data removed]",
      "text/plain": [
       "<Figure size 432x288 with 1 Axes>"
      ]
     },
     "metadata": {
      "needs_background": "light"
     },
     "output_type": "display_data"
    }
   ],
   "source": [
    "\n",
    "print(f'test labels are: {y_test[:,0]}')\n",
    "\n",
    "# Create separate arrays for background and signal predictions\n",
    "bkg_preds = predictions[y_test[:,0] == 0]\n",
    "sig_preds = predictions[y_test[:,0] == 1]\n",
    "\n",
    "print(bkg_preds)\n",
    "print(sig_preds)\n",
    "# Plot the predicted probabilities\n",
    "plt.hist(bkg_preds, bins=50, label='Background', alpha=0.5, density=True)\n",
    "plt.hist(sig_preds, bins=50, label='Signal', alpha=0.5, density=True, color='green')\n",
    "plt.xlabel('Predicted Probability')\n",
    "plt.ylabel('Number of Events')\n",
    "plt.legend(loc='upper center')\n",
    "#plt.ylim(top=100)\n",
    "plt.show()"
   ]
  },
  {
   "cell_type": "code",
   "execution_count": 29,
   "id": "3ec130d8",
   "metadata": {},
   "outputs": [
    {
     "data": {
      "image/png": "[encoded data removed]",
      "text/plain": [
       "<Figure size 432x288 with 1 Axes>"
      ]
     },
     "metadata": {
      "needs_background": "light"
     },
     "output_type": "display_data"
    }
   ],
   "source": [
    "# Compute ROC curve and AUC\n",
    "fpr, tpr, thresholds = roc_curve(y_test, predictions)\n",
    "roc_auc = auc(fpr, tpr)\n",
    "\n",
    "# Plot ROC curve\n",
    "\n",
    "plt.plot(fpr, tpr, color='darkorange', lw=2, label='ROC curve (area = %0.2f)' % roc_auc)\n",
    "plt.plot([0, 1], [0, 1], color='navy', lw=2, linestyle='--')\n",
    "plt.xlabel('False Positive Rate')\n",
    "plt.ylabel('True Positive Rate')\n",
    "plt.title('Receiver Operating Characteristic')\n",
    "plt.legend(loc=\"lower right\")\n",
    "#plt.xlim([0.9, 1])\n",
    "#plt.ylim([0.999, 1.005])\n",
    "plt.show()"
   ]
  },
  {
   "cell_type": "code",
   "execution_count": 30,
   "id": "f21bae2b",
   "metadata": {},
   "outputs": [
    {
     "data": {
      "image/png": "[encoded data removed]",
      "text/plain": [
       "<Figure size 432x288 with 1 Axes>"
      ]
     },
     "metadata": {
      "needs_background": "light"
     },
     "output_type": "display_data"
    }
   ],
   "source": [
    "### precision recall curve\n",
    "# Calculate precision-recall curve and average precision\n",
    "precision, recall, _ = precision_recall_curve(y_test, predictions)\n",
    "average_precision = average_precision_score(y_test, predictions)\n",
    "\n",
    "# Plot precision-recall curve\n",
    "plt.step(recall, precision, color='b', alpha=0.2, where='post')\n",
    "plt.fill_between(recall, precision, step='post', alpha=0.2, color='b')\n",
    "plt.xlabel('Recall')\n",
    "plt.ylabel('Precision')\n",
    "plt.ylim([0.0, 1.05])\n",
    "plt.xlim([0.0, 1.0])\n",
    "plt.title('Precision-Recall curve: AP={0:0.2f}'.format(average_precision))\n",
    "plt.show()"
   ]
  },
  {
   "cell_type": "code",
   "execution_count": null,
   "id": "ffa61a97",
   "metadata": {},
   "outputs": [],
   "source": []
  }
 ],
 "metadata": {
  "kernelspec": {
   "display_name": "Python 3",
   "language": "python",
   "name": "python3"
  },
  "language_info": {
   "codemirror_mode": {
    "name": "ipython",
    "version": 3
   },
   "file_extension": ".py",
   "mimetype": "text/x-python",
   "name": "python",
   "nbconvert_exporter": "python",
   "pygments_lexer": "ipython3",
   "version": "3.9.12"
  }
 },
 "nbformat": 4,
 "nbformat_minor": 5
}
