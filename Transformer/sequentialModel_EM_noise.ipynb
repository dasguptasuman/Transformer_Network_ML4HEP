{
 "cells": [
  {
   "cell_type": "code",
   "execution_count": 2,
   "id": "3e29d6cc",
   "metadata": {},
   "outputs": [
    {
     "name": "stderr",
     "output_type": "stream",
     "text": [
      "2023-08-25 15:00:39.084948: W tensorflow/stream_executor/platform/default/dso_loader.cc:64] Could not load dynamic library 'libcudart.so.11.0'; dlerror: libcudart.so.11.0: cannot open shared object file: No such file or directory; LD_LIBRARY_PATH: /cvmfs/sft.cern.ch/lcg/releases/MCGenerators/thepeg/2.2.3-6fa5c/x86_64-centos7-gcc11-opt/lib/ThePEG:/cvmfs/sft.cern.ch/lcg/releases/MCGenerators/herwig++/7.2.3-c1d8e/x86_64-centos7-gcc11-opt/lib/Herwig:/cvmfs/sft.cern.ch/lcg/views/LCG_103swan/x86_64-centos7-gcc11-opt/lib/python3.9/site-packages/jaxlib/mlir/_mlir_libs:/cvmfs/sft.cern.ch/lcg/views/LCG_103swan/x86_64-centos7-gcc11-opt/lib/python3.9/site-packages/torch/lib:/cvmfs/sft.cern.ch/lcg/views/LCG_103swan/x86_64-centos7-gcc11-opt/lib/python3.9/site-packages/onnxruntime/capi/:/cvmfs/sft.cern.ch/lcg/views/LCG_103swan/x86_64-centos7-gcc11-opt/lib/python3.9/site-packages/tensorflow:/cvmfs/sft.cern.ch/lcg/views/LCG_103swan/x86_64-centos7-gcc11-opt/lib/python3.9/site-packages/tensorflow/contrib/tensor_forest:/cvmfs/sft.cern.ch/lcg/views/LCG_103swan/x86_64-centos7-gcc11-opt/lib/python3.9/site-packages/tensorflow/python/framework:/cvmfs/sft.cern.ch/lcg/releases/java/11.0.14p1-8284a/x86_64-centos7-gcc11-opt/jre/lib/amd64:/cvmfs/sft.cern.ch/lcg/views/LCG_103swan/x86_64-centos7-gcc11-opt/lib64:/cvmfs/sft.cern.ch/lcg/views/LCG_103swan/x86_64-centos7-gcc11-opt/lib:/cvmfs/sft.cern.ch/lcg/releases/gcc/11.3.0-ad0f5/x86_64-centos7/lib:/cvmfs/sft.cern.ch/lcg/releases/gcc/11.3.0-ad0f5/x86_64-centos7/lib64:/cvmfs/sft.cern.ch/lcg/releases/binutils/2.37-355ed/x86_64-centos7/lib:/usr/local/lib/:/cvmfs/sft.cern.ch/lcg/releases/R/4.1.2-23baf/x86_64-centos7-gcc11-opt/lib64/R/library/readr/rcon\n",
      "2023-08-25 15:00:39.085006: I tensorflow/stream_executor/cuda/cudart_stub.cc:29] Ignore above cudart dlerror if you do not have a GPU set up on your machine.\n"
     ]
    }
   ],
   "source": [
    "import numpy as np\n",
    "# Train a model to classify real pulses vs. noise\n",
    "import tensorflow as tf\n",
    "from tensorflow.keras.layers import Input, LSTM, Dense\n",
    "from tensorflow.keras.models import Model\n",
    "import matplotlib.pyplot as plt\n",
    "from sklearn.metrics import roc_curve, auc\n",
    "from sklearn.metrics import precision_recall_curve\n",
    "from sklearn.metrics import average_precision_score\n",
    "import awkward as ak\n",
    "from tensorflow.keras.layers import Dropout\n",
    "from tensorflow import keras\n",
    "from tensorflow.keras import layers"
   ]
  },
  {
   "cell_type": "code",
   "execution_count": 9,
   "id": "5b9db202",
   "metadata": {},
   "outputs": [],
   "source": [
    "num_events = 50000\n",
    "num_samples = 10\n",
    "xmin = 1\n",
    "xmax = 10"
   ]
  },
  {
   "cell_type": "code",
   "execution_count": 10,
   "id": "2a632398",
   "metadata": {},
   "outputs": [],
   "source": [
    "def plot_timesamples(ax, time, emsignal_list, noisedata_list):\n",
    "    #fig, ax = plt.subplots()\n",
    "    for i, emsignal in enumerate(emsignal_list):\n",
    "        noisedata = noisedata_list[i]\n",
    "        ax.plot(time, emsignal, label=f'EM pulse' if i==1 else None, color='blue')\n",
    "        ax.plot(time, noisedata, label=f'noise'  if i==1 else None,color='orange')\n",
    "    ax.set_xlabel('Time (ns)')\n",
    "    ax.set_ylabel('Amplitude (arb. units)')\n",
    "    ax.legend()"
   ]
  },
  {
   "cell_type": "code",
   "execution_count": 11,
   "id": "30e4c490",
   "metadata": {},
   "outputs": [
    {
     "name": "stdout",
     "output_type": "stream",
     "text": [
      "[[ 0.06895913  0.1056133  -0.09143379 ... -0.42161528 -0.29712962\n",
      "  -0.58216445]\n",
      " [ 0.34485138 -0.08731802  0.06661344 ...  0.77302449  0.04550623\n",
      "   0.00307311]\n",
      " [ 0.1237994   0.15758994  0.23702709 ...  0.74946809  0.89637208\n",
      "   1.        ]\n",
      " ...\n",
      " [-0.03092482  0.05597267  0.02970392 ...  0.63602553  0.47977004\n",
      "   0.197776  ]\n",
      " [-0.07213616  0.50158804  0.37323287 ...  0.94731449  1.\n",
      "   0.95559548]\n",
      " [ 0.093267   -0.1169253  -0.21280756 ...  0.9604724   1.\n",
      "   0.49827842]]\n",
      "Printing y_real\n",
      "[[1.]\n",
      " [1.]\n",
      " [1.]\n",
      " ...\n",
      " [1.]\n",
      " [1.]\n",
      " [1.]]\n"
     ]
    },
    {
     "data": {
      "image/png": "[encoded data removed]",
      "text/plain": [
       "<Figure size 432x288 with 1 Axes>"
      ]
     },
     "metadata": {
      "needs_background": "light"
     },
     "output_type": "display_data"
    },
    {
     "data": {
      "image/png": "[encoded data removed]",
      "text/plain": [
       "<Figure size 432x288 with 1 Axes>"
      ]
     },
     "metadata": {
      "needs_background": "light"
     },
     "output_type": "display_data"
    }
   ],
   "source": [
    "import uproot\n",
    "### Energy = 0.15 GeV\n",
    "\n",
    "root_file = uproot.open(f\"/eos/user/d/dasgupsu/SWAN_projects/ECAL_noise_EM_discrimination/data/outputPSWithPU_withNoise_0.150000_0.15_v10.root\")\n",
    "tree = root_file[\"Samples\"]\n",
    "arrays = tree.arrays([\"samples\", \"ysamples\",\"samplesNoise\",\"ysamplesNoise\"])\n",
    "X_real = ak.to_numpy(arrays[\"samples\"])\n",
    "y_real = ak.to_numpy(arrays[\"ysamples\"])\n",
    "X_noise = ak.to_numpy(arrays[\"samplesNoise\"])\n",
    "y_noise = ak.to_numpy(arrays[\"ysamplesNoise\"])\n",
    "\n",
    "print(X_real) \n",
    "print(\"Printing y_real\")\n",
    "print(y_real)\n",
    "\n",
    "data = np.concatenate([X_real, X_noise]) ### makes it [2*num_events,num_samples]\n",
    "labels = np.concatenate([y_real,y_noise])\n",
    "\n",
    "# Shuffle data and labels together\n",
    "## Important to shuffle since I take some fraction of events so it should not happen that all the real events \n",
    "## are cluttered at the beginning\n",
    "shuffle_indices = np.random.permutation(len(data))\n",
    "data = data[shuffle_indices]\n",
    "labels = labels[shuffle_indices]\n",
    "\n",
    "fig, ax = plt.subplots()\n",
    "import awkward as ak\n",
    "\n",
    "num_events = ak.num(X_real, axis=0)\n",
    "t_events = np.zeros((num_events, num_samples))\n",
    "for i in range(num_events):\n",
    "    t_event = np.linspace(xmin, xmax, 10)\n",
    "    t_events[i] = t_event\n",
    "###replace this block with actual time variable\n",
    "\n",
    "fig, ax = plt.subplots()\n",
    "ev_numbers = [1, 2, 3, 4, 5, 6, 7, 8, 9 , 10, 100, 200, 300]# list of event numbers to plot\n",
    "#ev_numbers = [1500]\n",
    "emsignal_list = [X_real[ev_number] for ev_number in ev_numbers]\n",
    "noisedata_list = [X_noise[ev_number] for ev_number in ev_numbers]\n",
    "#plot_timesamples(ax, t_events[ev_numbers[0]], emsignal_list, noisedata_list)\n",
    "#plt.show()"
   ]
  },
  {
   "cell_type": "code",
   "execution_count": 12,
   "id": "00bcf83e",
   "metadata": {},
   "outputs": [
    {
     "name": "stdout",
     "output_type": "stream",
     "text": [
      "type of data is <class 'numpy.ndarray'>\n",
      "number of rows in data is 400000\n",
      "number of rows in data is 10\n"
     ]
    }
   ],
   "source": [
    "print(f'type of data is {type(data)}')\n",
    "\n",
    "import awkward as ak\n",
    "\n",
    "num_events_data = ak.num(data, axis=0)\n",
    "print(f'number of rows in data is {num_events_data}')\n",
    "\n",
    "\n",
    "ntimeSamples_data = ak.num(data, axis=1)\n",
    "print(f'number of rows in data is {ntimeSamples_data[0]}') ## just take the 0th event\n",
    "\n",
    "# Split into train and test sets\n",
    "train_size = int(0.8 * num_events_data) ###times 2 because the noise is also in the same dataset, so it is 2*num_events\n",
    "train_data = data[:train_size]\n",
    "train_labels = labels[:train_size]\n",
    "test_data = data[train_size:]\n",
    "test_labels = labels[train_size:]"
   ]
  },
  {
   "cell_type": "code",
   "execution_count": 6,
   "id": "d638330c",
   "metadata": {},
   "outputs": [
    {
     "name": "stdout",
     "output_type": "stream",
     "text": [
      "Size of training data is 320000\n",
      "number of elements in data : training data : test data : 400000 : 320000 : 80000\n",
      "WARNING:tensorflow:Layer lstm will not use cuDNN kernels since it doesn't meet the criteria. It will use a generic GPU kernel as fallback when running on GPU.\n",
      "WARNING:tensorflow:Layer lstm will not use cuDNN kernels since it doesn't meet the criteria. It will use a generic GPU kernel as fallback when running on GPU.\n",
      "WARNING:tensorflow:Layer lstm will not use cuDNN kernels since it doesn't meet the criteria. It will use a generic GPU kernel as fallback when running on GPU.\n",
      "WARNING:tensorflow:Layer lstm_1 will not use cuDNN kernels since it doesn't meet the criteria. It will use a generic GPU kernel as fallback when running on GPU.\n",
      "WARNING:tensorflow:Layer lstm_1 will not use cuDNN kernels since it doesn't meet the criteria. It will use a generic GPU kernel as fallback when running on GPU.\n",
      "WARNING:tensorflow:Layer lstm_1 will not use cuDNN kernels since it doesn't meet the criteria. It will use a generic GPU kernel as fallback when running on GPU.\n",
      "Model: \"sequential\"\n",
      "_________________________________________________________________\n",
      " Layer (type)                Output Shape              Param #   \n",
      "=================================================================\n",
      " bidirectional (Bidirectiona  (None, 10, 128)          33792     \n",
      " l)                                                              \n",
      "                                                                 \n",
      " bidirectional_1 (Bidirectio  (None, 64)               41216     \n",
      " nal)                                                            \n",
      "                                                                 \n",
      " dense (Dense)               (None, 1)                 65        \n",
      "                                                                 \n",
      "=================================================================\n",
      "Total params: 75,073\n",
      "Trainable params: 75,073\n",
      "Non-trainable params: 0\n",
      "_________________________________________________________________\n",
      "Epoch 1/10\n",
      "4000/4000 [==============================] - 140s 33ms/step - loss: 0.5981 - accuracy: 0.6887 - val_loss: 0.5433 - val_accuracy: 0.7450\n",
      "Epoch 2/10\n",
      "4000/4000 [==============================] - 132s 33ms/step - loss: 0.5360 - accuracy: 0.7409 - val_loss: 0.5256 - val_accuracy: 0.7508\n",
      "Epoch 3/10\n",
      "4000/4000 [==============================] - 131s 33ms/step - loss: 0.5096 - accuracy: 0.7559 - val_loss: 0.5019 - val_accuracy: 0.7621\n",
      "Epoch 4/10\n",
      "4000/4000 [==============================] - 133s 33ms/step - loss: 0.5056 - accuracy: 0.7586 - val_loss: 0.4963 - val_accuracy: 0.7657\n",
      "Epoch 5/10\n",
      "4000/4000 [==============================] - 133s 33ms/step - loss: 0.5009 - accuracy: 0.7622 - val_loss: 0.4975 - val_accuracy: 0.7625\n",
      "Epoch 6/10\n",
      "4000/4000 [==============================] - 135s 34ms/step - loss: 0.4987 - accuracy: 0.7633 - val_loss: 0.4935 - val_accuracy: 0.7683\n",
      "Epoch 7/10\n",
      "4000/4000 [==============================] - 137s 34ms/step - loss: 0.4972 - accuracy: 0.7642 - val_loss: 0.4929 - val_accuracy: 0.7681\n",
      "Epoch 8/10\n",
      "4000/4000 [==============================] - 134s 33ms/step - loss: 0.4959 - accuracy: 0.7649 - val_loss: 0.4904 - val_accuracy: 0.7699\n",
      "Epoch 9/10\n",
      "4000/4000 [==============================] - 136s 34ms/step - loss: 0.4949 - accuracy: 0.7656 - val_loss: 0.4889 - val_accuracy: 0.7690\n",
      "Epoch 10/10\n",
      "4000/4000 [==============================] - 133s 33ms/step - loss: 0.4944 - accuracy: 0.7669 - val_loss: 0.4877 - val_accuracy: 0.7702\n",
      "2500/2500 [==============================] - 23s 9ms/step - loss: 0.4906 - accuracy: 0.7679\n",
      "Test loss: 0.49060118198394775, Test accuracy: 0.7679250240325928\n"
     ]
    }
   ],
   "source": [
    "print(f'Size of training data is {train_size}')\n",
    "\n",
    "\n",
    "print(f'number of elements in data : training data : test data : {len(data)} : {len(train_data)} : {len(test_data)}')\n",
    "\n",
    "\n",
    "### LSTM Bidirectional model with one more LSTM layer + sigmoid\n",
    "inputs = (ntimeSamples_data[0], 1)\n",
    "model1 = keras.Sequential()\n",
    "model1.add(layers.Bidirectional(layers.LSTM(64, activation='relu', return_sequences=True), input_shape=(ntimeSamples_data[0], 1)))\n",
    "model1.add(layers.Bidirectional(layers.LSTM(32, activation='relu')))\n",
    "model1.add(layers.Dense(1, activation='relu'))\n",
    "model1.summary()\n",
    "\n",
    "# Compile the model\n",
    "model1.compile(optimizer='adam', loss='binary_crossentropy', metrics=['accuracy'])\n",
    "history = model1.fit(train_data[..., np.newaxis], train_labels, epochs=10, batch_size=64, validation_split=0.2)\n",
    "\n",
    "# Save the model to a file\n",
    "model1.save('/eos/user/d/dasgupsu/SWAN_projects/ECAL_noise_EM_discrimination/model/timeSeries_LSTMmodel_v10_relu_v1.h5')\n",
    "\n",
    "# Evaluate model\n",
    "test_loss, test_acc = model1.evaluate(test_data[..., np.newaxis], test_labels)\n",
    "print(f'Test loss: {test_loss}, Test accuracy: {test_acc}')\n"
   ]
  },
  {
   "cell_type": "code",
   "execution_count": 7,
   "id": "d872f3ab",
   "metadata": {},
   "outputs": [
    {
     "name": "stdout",
     "output_type": "stream",
     "text": [
      "Size of training data is 320000\n",
      "number of elements in data : training data : test data : 400000 : 320000 : 80000\n",
      "WARNING:tensorflow:Layer lstm_2 will not use cuDNN kernels since it doesn't meet the criteria. It will use a generic GPU kernel as fallback when running on GPU.\n",
      "WARNING:tensorflow:Layer lstm_2 will not use cuDNN kernels since it doesn't meet the criteria. It will use a generic GPU kernel as fallback when running on GPU.\n",
      "WARNING:tensorflow:Layer lstm_2 will not use cuDNN kernels since it doesn't meet the criteria. It will use a generic GPU kernel as fallback when running on GPU.\n",
      "WARNING:tensorflow:Layer lstm_3 will not use cuDNN kernels since it doesn't meet the criteria. It will use a generic GPU kernel as fallback when running on GPU.\n",
      "WARNING:tensorflow:Layer lstm_3 will not use cuDNN kernels since it doesn't meet the criteria. It will use a generic GPU kernel as fallback when running on GPU.\n",
      "WARNING:tensorflow:Layer lstm_3 will not use cuDNN kernels since it doesn't meet the criteria. It will use a generic GPU kernel as fallback when running on GPU.\n",
      "Model: \"sequential_1\"\n",
      "_________________________________________________________________\n",
      " Layer (type)                Output Shape              Param #   \n",
      "=================================================================\n",
      " bidirectional_2 (Bidirectio  (None, 10, 128)          33792     \n",
      " nal)                                                            \n",
      "                                                                 \n",
      " bidirectional_3 (Bidirectio  (None, 64)               41216     \n",
      " nal)                                                            \n",
      "                                                                 \n",
      " dense_1 (Dense)             (None, 1)                 65        \n",
      "                                                                 \n",
      "=================================================================\n",
      "Total params: 75,073\n",
      "Trainable params: 75,073\n",
      "Non-trainable params: 0\n",
      "_________________________________________________________________\n",
      "Epoch 1/10\n",
      "4000/4000 [==============================] - 141s 34ms/step - loss: 0.5370 - accuracy: 0.7331 - val_loss: 0.4986 - val_accuracy: 0.7641\n",
      "Epoch 2/10\n",
      "4000/4000 [==============================] - 135s 34ms/step - loss: 0.5030 - accuracy: 0.7602 - val_loss: 0.4945 - val_accuracy: 0.7664\n",
      "Epoch 3/10\n",
      "4000/4000 [==============================] - 137s 34ms/step - loss: 0.4992 - accuracy: 0.7618 - val_loss: 0.4921 - val_accuracy: 0.7674\n",
      "Epoch 4/10\n",
      "4000/4000 [==============================] - 135s 34ms/step - loss: 0.4971 - accuracy: 0.7637 - val_loss: 0.4925 - val_accuracy: 0.7669\n",
      "Epoch 5/10\n",
      "4000/4000 [==============================] - 136s 34ms/step - loss: 0.4957 - accuracy: 0.7651 - val_loss: 0.4910 - val_accuracy: 0.7681\n",
      "Epoch 6/10\n",
      "4000/4000 [==============================] - 135s 34ms/step - loss: 0.4944 - accuracy: 0.7652 - val_loss: 0.4891 - val_accuracy: 0.7682\n",
      "Epoch 7/10\n",
      "4000/4000 [==============================] - 136s 34ms/step - loss: 0.4941 - accuracy: 0.7662 - val_loss: 0.4873 - val_accuracy: 0.7704\n",
      "Epoch 8/10\n",
      "4000/4000 [==============================] - 136s 34ms/step - loss: 0.4934 - accuracy: 0.7662 - val_loss: 0.4894 - val_accuracy: 0.7686\n",
      "Epoch 9/10\n",
      "4000/4000 [==============================] - 136s 34ms/step - loss: 0.4928 - accuracy: 0.7664 - val_loss: 0.4878 - val_accuracy: 0.7705\n",
      "Epoch 10/10\n",
      "4000/4000 [==============================] - 137s 34ms/step - loss: 0.4924 - accuracy: 0.7668 - val_loss: 0.4868 - val_accuracy: 0.7698\n",
      "2500/2500 [==============================] - 24s 9ms/step - loss: 0.4902 - accuracy: 0.7681\n",
      "Test loss: 0.4902064800262451, Test accuracy: 0.7680875062942505\n"
     ]
    }
   ],
   "source": [
    "print(f'Size of training data is {train_size}')\n",
    "\n",
    "\n",
    "print(f'number of elements in data : training data : test data : {len(data)} : {len(train_data)} : {len(test_data)}')\n",
    "\n",
    "\n",
    "### LSTM Bidirectional model with one more LSTM layer + sigmoid\n",
    "#inputs = (ntimeSamples_data[0], 1)\n",
    "model = keras.Sequential()\n",
    "model.add(layers.Bidirectional(layers.LSTM(64, activation='relu', return_sequences=True), input_shape=(ntimeSamples_data[0], 1)))\n",
    "model.add(layers.Bidirectional(layers.LSTM(32, activation='relu')))\n",
    "model.add(layers.Dense(1, activation='sigmoid'))\n",
    "model.summary()\n",
    "\n",
    "# Compile the model\n",
    "model.compile(optimizer='adam', loss='binary_crossentropy', metrics=['accuracy'])\n",
    "history = model.fit(train_data[..., np.newaxis], train_labels, epochs=10, batch_size=64, validation_split=0.2)\n",
    "\n",
    "# Save the model to a file\n",
    "model.save('/eos/user/d/dasgupsu/SWAN_projects/ECAL_noise_EM_discrimination/model/timeSeries_LSTMmodel_v10_sigmoid_v1.h5')\n",
    "\n",
    "# Evaluate model\n",
    "test_loss, test_acc = model.evaluate(test_data[..., np.newaxis], test_labels)\n",
    "print(f'Test loss: {test_loss}, Test accuracy: {test_acc}')\n"
   ]
  },
  {
   "cell_type": "code",
   "execution_count": null,
   "id": "b9a858c1",
   "metadata": {},
   "outputs": [],
   "source": [
    "# Plot accuracy\n",
    "plt.plot(history.history['accuracy'])\n",
    "plt.plot(history.history['val_accuracy'])\n",
    "plt.title('Model Accuracy')\n",
    "plt.ylabel('Accuracy')\n",
    "plt.xlabel('Epoch')\n",
    "plt.legend(['Train', 'Validation'], loc='upper left')\n",
    "plt.show()\n",
    "\n",
    "# Plot loss\n",
    "plt.plot(history.history['loss'])\n",
    "plt.plot(history.history['val_loss'])\n",
    "plt.title('Model Loss')\n",
    "plt.ylabel('Loss')\n",
    "plt.xlabel('Epoch')\n",
    "plt.legend(['Train', 'Validation'], loc='upper left')\n",
    "plt.show()\n",
    "\n"
   ]
  },
  {
   "cell_type": "code",
   "execution_count": null,
   "id": "6304299a",
   "metadata": {
    "scrolled": false
   },
   "outputs": [],
   "source": [
    "# Make predictions on test data\n",
    "predictions = model.predict(test_data[..., np.newaxis]).flatten()\n",
    "# Convert predictions to binary labels\n",
    "binary_predictions = (predictions > 0.5).astype(int)\n",
    "\n",
    "print(f'{len(test_labels)} and {len(binary_predictions)}')\n",
    "print(f\" predictions are {predictions}\")\n",
    "# Create scatter plot of true labels vs. predicted labels\n",
    "plt.scatter(test_labels, predictions, alpha=0.1)\n",
    "plt.xlabel('True Labels')\n",
    "plt.ylabel('Predicted Labels')\n",
    "plt.title('True Labels vs. Predicted Labels')\n",
    "plt.show()\n"
   ]
  },
  {
   "cell_type": "code",
   "execution_count": 1,
   "id": "c150b788",
   "metadata": {},
   "outputs": [
    {
     "ename": "NameError",
     "evalue": "name 'tf' is not defined",
     "output_type": "error",
     "traceback": [
      "\u001b[0;31m---------------------------------------------------------------------------\u001b[0m",
      "\u001b[0;31mNameError\u001b[0m                                 Traceback (most recent call last)",
      "\u001b[0;32m/tmp/ipykernel_550/3475630063.py\u001b[0m in \u001b[0;36m<module>\u001b[0;34m\u001b[0m\n\u001b[0;32m----> 1\u001b[0;31m \u001b[0mnew_model\u001b[0m \u001b[0;34m=\u001b[0m \u001b[0mtf\u001b[0m\u001b[0;34m.\u001b[0m\u001b[0mkeras\u001b[0m\u001b[0;34m.\u001b[0m\u001b[0mmodels\u001b[0m\u001b[0;34m.\u001b[0m\u001b[0mload_model\u001b[0m\u001b[0;34m(\u001b[0m\u001b[0;34m'/eos/user/d/dasgupsu/SWAN_projects/ECAL_noise_EM_discrimination/model/timeSeries_LSTMmodel_v10_relu.h5'\u001b[0m\u001b[0;34m)\u001b[0m\u001b[0;34m\u001b[0m\u001b[0;34m\u001b[0m\u001b[0m\n\u001b[0m\u001b[1;32m      2\u001b[0m \u001b[0mpredictions2\u001b[0m \u001b[0;34m=\u001b[0m \u001b[0mnew_model\u001b[0m\u001b[0;34m.\u001b[0m\u001b[0mpredict\u001b[0m\u001b[0;34m(\u001b[0m\u001b[0mtest_data\u001b[0m\u001b[0;34m[\u001b[0m\u001b[0;34m...\u001b[0m\u001b[0;34m,\u001b[0m \u001b[0mnp\u001b[0m\u001b[0;34m.\u001b[0m\u001b[0mnewaxis\u001b[0m\u001b[0;34m]\u001b[0m\u001b[0;34m)\u001b[0m\u001b[0;34m.\u001b[0m\u001b[0mflatten\u001b[0m\u001b[0;34m(\u001b[0m\u001b[0;34m)\u001b[0m\u001b[0;34m\u001b[0m\u001b[0;34m\u001b[0m\u001b[0m\n",
      "\u001b[0;31mNameError\u001b[0m: name 'tf' is not defined"
     ]
    }
   ],
   "source": [
    "new_model = tf.keras.models.load_model('/eos/user/d/dasgupsu/SWAN_projects/ECAL_noise_EM_discrimination/model/timeSeries_LSTMmodel_v10_relu.h5')\n",
    "predictions2 = new_model.predict(test_data[..., np.newaxis]).flatten()"
   ]
  },
  {
   "cell_type": "code",
   "execution_count": 37,
   "id": "c3caf63b",
   "metadata": {},
   "outputs": [
    {
     "data": {
      "text/plain": [
       "31578"
      ]
     },
     "execution_count": 37,
     "metadata": {},
     "output_type": "execute_result"
    }
   ],
   "source": [
    "np.count_nonzero(predictions2[test_labels[:,0] == 1] > 0.5)"
   ]
  },
  {
   "cell_type": "code",
   "execution_count": 38,
   "id": "5cca2e28",
   "metadata": {},
   "outputs": [
    {
     "data": {
      "text/plain": [
       "40017"
      ]
     },
     "execution_count": 38,
     "metadata": {},
     "output_type": "execute_result"
    }
   ],
   "source": [
    "np.count_nonzero(test_labels[:,0] == 1)"
   ]
  },
  {
   "cell_type": "code",
   "execution_count": 39,
   "id": "12dd510a",
   "metadata": {},
   "outputs": [
    {
     "data": {
      "text/plain": [
       "10305"
      ]
     },
     "execution_count": 39,
     "metadata": {},
     "output_type": "execute_result"
    }
   ],
   "source": [
    "np.count_nonzero(predictions2[test_labels[:,0] == 0] > 0.5)"
   ]
  },
  {
   "cell_type": "code",
   "execution_count": 20,
   "id": "6af232bc",
   "metadata": {},
   "outputs": [
    {
     "ename": "NameError",
     "evalue": "name 'predictions' is not defined",
     "output_type": "error",
     "traceback": [
      "\u001b[0;31m---------------------------------------------------------------------------\u001b[0m",
      "\u001b[0;31mNameError\u001b[0m                                 Traceback (most recent call last)",
      "\u001b[0;32m/tmp/ipykernel_1680/3142150823.py\u001b[0m in \u001b[0;36m<module>\u001b[0;34m\u001b[0m\n\u001b[0;32m----> 1\u001b[0;31m \u001b[0;34m(\u001b[0m\u001b[0;34m(\u001b[0m\u001b[0mpredictions\u001b[0m \u001b[0;34m>\u001b[0m \u001b[0;36m0.5\u001b[0m\u001b[0;34m)\u001b[0m \u001b[0;34m==\u001b[0m \u001b[0;34m(\u001b[0m\u001b[0mtest_labels\u001b[0m\u001b[0;34m[\u001b[0m\u001b[0;34m:\u001b[0m\u001b[0;34m,\u001b[0m\u001b[0;36m0\u001b[0m\u001b[0;34m]\u001b[0m \u001b[0;34m==\u001b[0m \u001b[0;36m1\u001b[0m\u001b[0;34m)\u001b[0m\u001b[0;34m)\u001b[0m\u001b[0;34m\u001b[0m\u001b[0;34m\u001b[0m\u001b[0m\n\u001b[0m",
      "\u001b[0;31mNameError\u001b[0m: name 'predictions' is not defined"
     ]
    }
   ],
   "source": [
    "((predictions > 0.5) == (test_labels[:,0] == 1))"
   ]
  },
  {
   "cell_type": "code",
   "execution_count": 33,
   "id": "96a8f8e6",
   "metadata": {},
   "outputs": [
    {
     "name": "stdout",
     "output_type": "stream",
     "text": [
      "test labels are: [1. 1. 0. ... 1. 0. 0.]\n",
      "[0.21400686 0.39911163 0.4719287  ... 0.6321563  0.14593337 0.05864598]\n",
      "[0.40870237 0.89884496 0.8646379  ... 0.7239078  0.7742245  0.8321794 ]\n"
     ]
    },
    {
     "data": {
      "image/png": "[encoded data removed]",
      "text/plain": [
       "<Figure size 432x288 with 1 Axes>"
      ]
     },
     "metadata": {
      "needs_background": "light"
     },
     "output_type": "display_data"
    }
   ],
   "source": [
    "###plot the score\n",
    "\n",
    "print(f'test labels are: {test_labels[:,0]}')\n",
    "\n",
    "# Create separate arrays for background and signal predictions\n",
    "bkg_preds = predictions2[test_labels[:,0] == 0]\n",
    "sig_preds = predictions2[test_labels[:,0] == 1]\n",
    "\n",
    "print(bkg_preds)\n",
    "print(sig_preds)\n",
    "# Plot the predicted probabilities\n",
    "plt.hist(bkg_preds, bins=50, label='Background', alpha=0.5)\n",
    "plt.hist(sig_preds, bins=50, label='Signal', alpha=0.5, color='green')\n",
    "plt.xlabel('Predicted Probability')\n",
    "plt.ylabel('Number of Events')\n",
    "plt.legend(loc='upper center')\n",
    "#plt.ylim(top=100)\n",
    "#plt.show()\n",
    "plt.savefig(\"bkgVsSig_v10_relu.png\")"
   ]
  },
  {
   "cell_type": "code",
   "execution_count": 35,
   "id": "c9d2edeb",
   "metadata": {},
   "outputs": [
    {
     "name": "stdout",
     "output_type": "stream",
     "text": [
      "test labels are: [1. 1. 0. ... 1. 0. 0.]\n",
      "[0.20494266 0.33767927 0.54940146 ... 0.6406661  0.14520815 0.06635542]\n",
      "[0.44717854 0.89989877 0.8433898  ... 0.7686749  0.7664459  0.7922409 ]\n"
     ]
    },
    {
     "data": {
      "image/png": "[encoded data removed]",
      "text/plain": [
       "<Figure size 432x288 with 1 Axes>"
      ]
     },
     "metadata": {
      "needs_background": "light"
     },
     "output_type": "display_data"
    }
   ],
   "source": [
    "###plot the score\n",
    "\n",
    "print(f'test labels are: {test_labels[:,0]}')\n",
    "\n",
    "# Create separate arrays for background and signal predictions\n",
    "bkg_preds = predictions2[test_labels[:,0] == 0]\n",
    "sig_preds = predictions2[test_labels[:,0] == 1]\n",
    "\n",
    "print(bkg_preds)\n",
    "print(sig_preds)\n",
    "# Plot the predicted probabilities\n",
    "plt.hist(bkg_preds, bins=50, label='Background', alpha=0.5)\n",
    "plt.hist(sig_preds, bins=50, label='Signal', alpha=0.5, color='green')\n",
    "plt.xlabel('Predicted Probability')\n",
    "plt.ylabel('Number of Events')\n",
    "plt.legend(loc='upper center')\n",
    "#plt.ylim(top=100)\n",
    "#plt.show()\n",
    "plt.savefig(\"bkgVsSig_v10_relu.png\")"
   ]
  },
  {
   "cell_type": "code",
   "execution_count": null,
   "id": "bbb12792",
   "metadata": {},
   "outputs": [],
   "source": [
    "# Compute ROC curve and AUC\n",
    "fpr, tpr, thresholds = roc_curve(test_labels, predictions)\n",
    "roc_auc = auc(fpr, tpr)\n",
    "\n",
    "# Plot ROC curve\n",
    "\n",
    "plt.plot(fpr, tpr, color='darkorange', lw=2, label='ROC curve (area = %0.2f)' % roc_auc)\n",
    "plt.plot([0, 1], [0, 1], color='navy', lw=2, linestyle='--')\n",
    "plt.xlabel('False Positive Rate')\n",
    "plt.ylabel('True Positive Rate')\n",
    "plt.title('Receiver Operating Characteristic')\n",
    "plt.legend(loc=\"lower right\")\n",
    "#plt.xlim([0.9, 1])\n",
    "#plt.ylim([0.999, 1.005])\n",
    "#plt.show()\n",
    "plt.savefig(\"ROC_v10.png\")"
   ]
  },
  {
   "cell_type": "code",
   "execution_count": null,
   "id": "244f90e6",
   "metadata": {},
   "outputs": [],
   "source": [
    "### precision recall curve\n",
    "# Calculate precision-recall curve and average precision\n",
    "precision, recall, _ = precision_recall_curve(test_labels, predictions)\n",
    "average_precision = average_precision_score(test_labels, predictions)\n",
    "\n",
    "# Plot precision-recall curve\n",
    "plt.step(recall, precision, color='b', alpha=0.2, where='post')\n",
    "plt.fill_between(recall, precision, step='post', alpha=0.2, color='b')\n",
    "plt.xlabel('Recall')\n",
    "plt.ylabel('Precision')\n",
    "plt.ylim([0.0, 1.05])\n",
    "plt.xlim([0.0, 1.0])\n",
    "plt.title('Precision-Recall curve: AP={0:0.2f}'.format(average_precision))\n",
    "plt.show()"
   ]
  },
  {
   "cell_type": "code",
   "execution_count": null,
   "id": "a638bf3c",
   "metadata": {},
   "outputs": [],
   "source": []
  },
  {
   "cell_type": "code",
   "execution_count": null,
   "id": "ebbbe65c",
   "metadata": {},
   "outputs": [],
   "source": []
  },
  {
   "cell_type": "code",
   "execution_count": null,
   "id": "6a7b04a1",
   "metadata": {},
   "outputs": [],
   "source": []
  },
  {
   "cell_type": "code",
   "execution_count": null,
   "id": "b9a7139d",
   "metadata": {},
   "outputs": [],
   "source": []
  }
 ],
 "metadata": {
  "@webio": {
   "lastCommId": null,
   "lastKernelId": null
  },
  "kernelspec": {
   "display_name": "Python 3",
   "language": "python",
   "name": "python3"
  },
  "language_info": {
   "codemirror_mode": {
    "name": "ipython",
    "version": 3
   },
   "file_extension": ".py",
   "mimetype": "text/x-python",
   "name": "python",
   "nbconvert_exporter": "python",
   "pygments_lexer": "ipython3",
   "version": "3.9.12"
  }
 },
 "nbformat": 4,
 "nbformat_minor": 5
}
