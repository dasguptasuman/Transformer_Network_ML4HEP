{
 "cells": [
  {
   "cell_type": "code",
   "execution_count": null,
   "id": "72c8163c",
   "metadata": {},
   "outputs": [],
   "source": []
  },
  {
   "cell_type": "code",
   "execution_count": 1,
   "id": "ef06bdbc",
   "metadata": {},
   "outputs": [],
   "source": [
    "import torch\n",
    "import torch.nn as nn \n",
    "import math\n",
    "from torch import nn, Tensor\n",
    "import uproot\n",
    "import numpy as np\n",
    "import awkward as ak\n",
    "from torch.utils.data import DataLoader\n",
    "import torch\n",
    "import datetime\n",
    "import numpy as np\n",
    "import torch\n",
    "import torch.nn as nn \n",
    "import math\n",
    "from torch import nn, Tensor\n",
    "from torch.utils.data import Dataset\n",
    "import torch.nn as nn \n",
    "from torch import nn, Tensor\n",
    "import torch.nn.functional as F\n",
    "import awkward as ak"
   ]
  },
  {
   "cell_type": "code",
   "execution_count": 2,
   "id": "ac51b2aa",
   "metadata": {},
   "outputs": [
    {
     "name": "stdout",
     "output_type": "stream",
     "text": [
      "[[ 0.06895913  0.1056133  -0.09143379 ... -0.42161528 -0.29712962\n",
      "  -0.58216445]\n",
      " [ 0.34485138 -0.08731802  0.06661344 ...  0.77302449  0.04550623\n",
      "   0.00307311]\n",
      " [ 0.1237994   0.15758994  0.23702709 ...  0.74946809  0.89637208\n",
      "   1.        ]\n",
      " ...\n",
      " [-0.03092482  0.05597267  0.02970392 ...  0.63602553  0.47977004\n",
      "   0.197776  ]\n",
      " [-0.07213616  0.50158804  0.37323287 ...  0.94731449  1.\n",
      "   0.95559548]\n",
      " [ 0.093267   -0.1169253  -0.21280756 ...  0.9604724   1.\n",
      "   0.49827842]]\n",
      "Printing y_real\n",
      "[[1.]\n",
      " [1.]\n",
      " [1.]\n",
      " ...\n",
      " [1.]\n",
      " [1.]\n",
      " [1.]]\n"
     ]
    }
   ],
   "source": [
    "import uproot\n",
    "### Energy = 0.15 GeV\n",
    "root_file = uproot.open(f\"/eos/user/d/dasgupsu/SWAN_projects/ECAL_noise_EM_discrimination/data/outputPSWithPU_withNoise_0.150000_0.15_v11.root\")\n",
    "\n",
    "tree = root_file[\"Samples\"]\n",
    "arrays = tree.arrays([\"samples\", \"ysamples\",\"samplesNoise\",\"ysamplesNoise\"])\n",
    "X_real = ak.to_numpy(arrays[\"samples\"])\n",
    "y_real = ak.to_numpy(arrays[\"ysamples\"])\n",
    "X_noise = ak.to_numpy(arrays[\"samplesNoise\"])\n",
    "y_noise = ak.to_numpy(arrays[\"ysamplesNoise\"])\n",
    "\n",
    "\n",
    "print(X_real) \n",
    "print(\"Printing y_real\")\n",
    "print(y_real)\n",
    "\n",
    "data = np.concatenate([X_real, X_noise]) ### makes it [2*num_events,num_samples]\n",
    "\n",
    "labels = np.concatenate([y_real,y_noise])\n",
    "\n",
    "\n",
    "# Shuffle data and labels together\n",
    "## Important to shuffle since I take some fraction of events so it should not happen that all the real events \n",
    "## are cluttered at the beginning\n",
    "\n",
    "shuffle_indices = np.random.permutation(len(data))\n",
    "data = data[shuffle_indices]\n",
    "labels = labels[shuffle_indices]"
   ]
  },
  {
   "cell_type": "code",
   "execution_count": 3,
   "id": "b136f060",
   "metadata": {},
   "outputs": [
    {
     "name": "stdout",
     "output_type": "stream",
     "text": [
      "number of rows in data is 200000\n",
      "number of rows in data is 11\n",
      "Size of training data is 140000\n",
      "number of elements in data : training data : test data : 200000 : 140000 : 60000\n"
     ]
    }
   ],
   "source": [
    "import awkward as ak\n",
    "\n",
    "num_events_data = ak.num(data, axis=0)\n",
    "print(f'number of rows in data is {num_events_data}')\n",
    "\n",
    "\n",
    "ntimeSamples_data = ak.num(data, axis=1)\n",
    "print(f'number of rows in data is {ntimeSamples_data[0]}') ## just take the 0th event\n",
    "\n",
    "# Split into train and test sets\n",
    "train_size = int(0.7 * num_events_data) ###times 2 because the noise is also in the same dataset, so it is 2*num_events\n",
    "train_data = data[:train_size]\n",
    "train_labels = labels[:train_size]\n",
    "\n",
    "test_data = data[train_size:]\n",
    "test_labels = labels[train_size:]\n",
    "\n",
    "print(f'Size of training data is {train_size}')\n",
    "\n",
    "'''\n",
    "print(train_size)\n",
    "print(train_data)\n",
    "print(test_data)\n",
    "'''\n",
    "\n",
    "print(f'number of elements in data : training data : test data : {len(data)} : {len(train_data)} : {len(test_data)}')"
   ]
  },
  {
   "cell_type": "code",
   "execution_count": 4,
   "id": "fda6c44a",
   "metadata": {},
   "outputs": [
    {
     "name": "stdout",
     "output_type": "stream",
     "text": [
      "device: cuda\n"
     ]
    }
   ],
   "source": [
    "device = 'cuda' if torch.cuda.is_available() else 'cpu'\n",
    "print(\"device:\", device)"
   ]
  },
  {
   "cell_type": "code",
   "execution_count": 9,
   "id": "83558b2f",
   "metadata": {},
   "outputs": [
    {
     "data": {
      "text/plain": [
       "array([[ 0.18512114],\n",
       "       [-0.20890033],\n",
       "       [-0.70868399],\n",
       "       [-1.        ],\n",
       "       [-0.66414077],\n",
       "       [ 0.01876789],\n",
       "       [ 0.62579348],\n",
       "       [ 0.45956214],\n",
       "       [-0.12863019],\n",
       "       [-0.56459289],\n",
       "       [-0.58474894]])"
      ]
     },
     "execution_count": 9,
     "metadata": {},
     "output_type": "execute_result"
    }
   ],
   "source": [
    "train_data[0]"
   ]
  },
  {
   "cell_type": "code",
   "execution_count": 7,
   "id": "5ed9e196",
   "metadata": {},
   "outputs": [],
   "source": [
    "train_data = train_data.reshape((train_data.shape[0], train_data.shape[1], 1))\n",
    "test_data = test_data.reshape((test_data.shape[0], test_data.shape[1], 1))\n",
    "train_labels = train_labels.reshape((train_labels.shape[0], 1))\n",
    "test_labels = test_labels.reshape((test_labels.shape[0], 1))"
   ]
  },
  {
   "cell_type": "code",
   "execution_count": 8,
   "id": "766f13ea",
   "metadata": {},
   "outputs": [
    {
     "data": {
      "text/plain": [
       "array([[ 0.18512114],\n",
       "       [-0.20890033],\n",
       "       [-0.70868399],\n",
       "       [-1.        ],\n",
       "       [-0.66414077],\n",
       "       [ 0.01876789],\n",
       "       [ 0.62579348],\n",
       "       [ 0.45956214],\n",
       "       [-0.12863019],\n",
       "       [-0.56459289],\n",
       "       [-0.58474894]])"
      ]
     },
     "execution_count": 8,
     "metadata": {},
     "output_type": "execute_result"
    }
   ],
   "source": [
    "train_data[0]"
   ]
  },
  {
   "cell_type": "code",
   "execution_count": 7,
   "id": "878e81e3",
   "metadata": {},
   "outputs": [],
   "source": [
    "train_data = torch.tensor(train_data, dtype =torch.float).to(device)\n",
    "test_data = torch.tensor(test_data, dtype =torch.float).to(device)\n",
    "train_labels = torch.tensor(train_labels, dtype =torch.float).to(device)\n",
    "test_labels = torch.tensor(test_labels, dtype =torch.float).to(device)"
   ]
  },
  {
   "cell_type": "code",
   "execution_count": 8,
   "id": "eb499908",
   "metadata": {},
   "outputs": [
    {
     "data": {
      "text/plain": [
       "torch.float32"
      ]
     },
     "execution_count": 8,
     "metadata": {},
     "output_type": "execute_result"
    }
   ],
   "source": [
    "test_labels.dtype"
   ]
  },
  {
   "cell_type": "code",
   "execution_count": 9,
   "id": "448cfa04",
   "metadata": {},
   "outputs": [],
   "source": [
    "class ClassifierDataset(Dataset):\n",
    "    \"\"\"\n",
    "    Dataset class used for classifier models.\n",
    "    \n",
    "    \"\"\"\n",
    "    def __init__(self, \n",
    "        data: torch.tensor,\n",
    "        lebel: torch.tensor\n",
    "        ) -> None:\n",
    "        \n",
    "        super().__init__()\n",
    "\n",
    "        self.data = data\n",
    "        self.lebel = lebel\n",
    "\n",
    "        print(\"data size = {}\".format(data.size()))\n",
    "        print(\"target size = {}\".format(lebel.size()))\n",
    "            \n",
    "\n",
    "    def __len__(self):\n",
    "        \n",
    "        return self.data.size()[0]\n",
    "\n",
    "    def __getitem__(self, index):\n",
    "        \"\"\"\n",
    "        Returns a tuple with 3 elements:\n",
    "        1) src (the encoder input)\n",
    "        2) trg (the decoder input)\n",
    "        3) trg_y (the target)\n",
    "        \"\"\"\n",
    "        #print(self.data.size())\n",
    "        data = self.data[index]\n",
    "        lebel = self.lebel[index]\n",
    "        return data, lebel"
   ]
  },
  {
   "cell_type": "code",
   "execution_count": 10,
   "id": "539606d1",
   "metadata": {},
   "outputs": [
    {
     "name": "stdout",
     "output_type": "stream",
     "text": [
      "data size = torch.Size([140000, 11, 1])\n",
      "target size = torch.Size([140000, 1])\n"
     ]
    }
   ],
   "source": [
    "training_class = ClassifierDataset(\n",
    "    data = train_data,\n",
    "    lebel = train_labels)"
   ]
  },
  {
   "cell_type": "code",
   "execution_count": 11,
   "id": "d3630fac",
   "metadata": {},
   "outputs": [
    {
     "name": "stdout",
     "output_type": "stream",
     "text": [
      "data size = torch.Size([60000, 11, 1])\n",
      "target size = torch.Size([60000, 1])\n"
     ]
    }
   ],
   "source": [
    "testing_class = ClassifierDataset(\n",
    "    data = test_data,\n",
    "    lebel = test_labels)"
   ]
  },
  {
   "cell_type": "code",
   "execution_count": 13,
   "id": "99665336",
   "metadata": {},
   "outputs": [],
   "source": [
    "class PositionalEncoder(nn.Module):\n",
    "\n",
    "    def __init__(\n",
    "        self, \n",
    "        dropout: float=0.1, \n",
    "        max_seq_len: int=11, \n",
    "        d_model: int=512,\n",
    "        batch_first: bool=True\n",
    "        ):\n",
    "\n",
    "        \"\"\"\n",
    "        Parameters:\n",
    "            dropout: the dropout rate\n",
    "            max_seq_len: the maximum length of the input sequences\n",
    "            d_model: The dimension of the output of sub-layers in the model \n",
    "        \"\"\"\n",
    "\n",
    "        super().__init__()\n",
    "\n",
    "        self.d_model = d_model\n",
    "        \n",
    "        self.dropout = nn.Dropout(p=dropout)\n",
    "\n",
    "        self.batch_first = batch_first\n",
    "\n",
    "        # adapted from PyTorch tutorial\n",
    "        position = torch.arange(max_seq_len).unsqueeze(1)\n",
    "        \n",
    "        div_term = torch.exp(torch.arange(0, d_model, 2) * (-math.log(10000.0) / d_model))\n",
    "        \n",
    "        if self.batch_first:\n",
    "            pe = torch.zeros(1, max_seq_len, d_model)\n",
    "            \n",
    "            pe[0, :, 0::2] = torch.sin(position * div_term)\n",
    "            \n",
    "            pe[0, :, 1::2] = torch.cos(position * div_term)\n",
    "        else:\n",
    "            pe = torch.zeros(max_seq_len, 1, d_model)\n",
    "        \n",
    "            pe[:, 0, 0::2] = torch.sin(position * div_term)\n",
    "        \n",
    "            pe[:, 0, 1::2] = torch.cos(position * div_term)\n",
    "        \n",
    "        self.register_buffer('pe', pe)\n",
    "        \n",
    "    def forward(self, x: Tensor) -> Tensor:\n",
    "        \"\"\"\n",
    "        Args:\n",
    "            x: Tensor, shape [batch_size, enc_seq_len, dim_val] or \n",
    "               [enc_seq_len, batch_size, dim_val]\n",
    "        \"\"\"\n",
    "        if self.batch_first:\n",
    "            x = x + self.pe[:,:x.size(1)]\n",
    "        else:\n",
    "            x = x + self.pe[:x.size(0)]\n",
    "\n",
    "        return self.dropout(x)"
   ]
  },
  {
   "cell_type": "code",
   "execution_count": 14,
   "id": "f571a94f",
   "metadata": {},
   "outputs": [],
   "source": [
    "class TimeSeriesClassifier(nn.Module):\n",
    "\n",
    "    def __init__(self, \n",
    "        input_size: int,\n",
    "        dec_seq_len: int,\n",
    "        batch_first: bool,\n",
    "        dim_val: int=512,  \n",
    "        n_encoder_layers: int=4,\n",
    "        n_heads: int=8,\n",
    "        dropout_encoder: float=0.2, \n",
    "        dropout_pos_enc: float=0.1,\n",
    "        dim_feedforward_encoder: int=2048\n",
    "        ): \n",
    "\n",
    "        \"\"\"\n",
    "        Args:\n",
    "            input_size: int, number of input variables. 1 if univariate.\n",
    "            dec_seq_len: int, the length of the input sequence fed to the decoder\n",
    "            dim_val: int, aka d_model. All sub-layers in the model produce \n",
    "                     outputs of dimension dim_val\n",
    "            n_encoder_layers: int, number of stacked encoder layers in the encoder\n",
    "            \n",
    "            n_heads: int, the number of attention heads (aka parallel attention layers)\n",
    "            dropout_encoder: float, the dropout rate of the encoder\n",
    "            \n",
    "            dropout_pos_enc: float, the dropout rate of the positional encoder\n",
    "            dim_feedforward_encoder: int, number of neurons in the linear layer \n",
    "                                     of the encoder\n",
    "            \n",
    "            num_predicted_features: int, the number of features you want to predict.\n",
    "                                    Most of the time, this will be 1 .\n",
    "        \"\"\"\n",
    "\n",
    "        super().__init__() \n",
    "\n",
    "        self.dec_seq_len = dec_seq_len\n",
    "\n",
    "\n",
    "        # Creating the three linear layers needed for the model\n",
    "        self.encoder_input_layer = nn.Linear(\n",
    "            in_features=input_size, \n",
    "            out_features=dim_val \n",
    "            )\n",
    "        \n",
    "        self.linear_mapping = nn.Linear(\n",
    "            in_features=dim_val, \n",
    "            out_features=input_size\n",
    "            )\n",
    "        \n",
    "        self.final_linear_mapping = nn.Linear(\n",
    "            in_features=dec_seq_len, \n",
    "            out_features=input_size\n",
    "            )\n",
    "        \n",
    "        self.output = nn.Sigmoid()\n",
    "        \n",
    "        # Create positional encoder\n",
    "        self.positional_encoding_layer = PositionalEncoder(\n",
    "            d_model=dim_val,\n",
    "            dropout=dropout_pos_enc\n",
    "            )\n",
    "\n",
    "        # Creating the encoder layer \n",
    "        encoder_layer = nn.TransformerEncoderLayer(\n",
    "            d_model=dim_val, \n",
    "            nhead=n_heads,\n",
    "            dim_feedforward=dim_feedforward_encoder,\n",
    "            dropout=dropout_encoder,\n",
    "            batch_first=batch_first\n",
    "            )\n",
    "\n",
    "        # Stack the encoder layers in nn.TransformerEncoder\n",
    "        self.encoder = nn.TransformerEncoder(\n",
    "            encoder_layer=encoder_layer,\n",
    "            num_layers=n_encoder_layers, \n",
    "            norm=None\n",
    "            )\n",
    "\n",
    "    def forward(self, src: Tensor) -> Tensor:\n",
    "        \"\"\"\n",
    "        Returns a tensor of shape:\n",
    "        [target_sequence_length, batch_size, num_predicted_features]\n",
    "        \n",
    "        Args:\n",
    "            src: the encoder's output sequence. Shape: \n",
    "                 (S, N, E) if batch_first=False or (N, S, E) if \n",
    "                 batch_first=True, where S is the source sequence length, \n",
    "                 N is the batch size, and E is the number of features (1 if univariate)\n",
    " \n",
    "        \"\"\"\n",
    "\n",
    "        #print(\"From model.forward(): Size of src as given to forward(): {}\".format(src.size()))\n",
    "        \n",
    "        # Pass throguh the input layer right before the encoder\n",
    "        src = self.encoder_input_layer(src) # src shape: [batch_size, src length, dim_val] regardless of number of input features\n",
    "        #print(\"From model.forward(): Size of src after input layer: {}\".format(src.size()))\n",
    "\n",
    "        # Pass through the positional encoding layer\n",
    "        src = self.positional_encoding_layer(src) # src shape: [batch_size, src length, dim_val] regardless of number of input features\n",
    "        #print(\"From model.forward(): Size of src after pos_enc layer: {}\".format(src.size()))\n",
    "\n",
    "        # Pass through all the stacked encoder layers in the encoder\n",
    "\n",
    "        src = self.encoder( # src shape: [batch_size, enc_seq_len, dim_val]\n",
    "            src=src\n",
    "            )\n",
    "        #print(\"From model.forward(): Size of src after encoder: {}\".format(src.size()))\n",
    "        \n",
    "        # Pass through linear mapping\n",
    "        linear_output = self.linear_mapping(src) # shape [batch_size, target seq len]\n",
    "        #print(\"From model.forward(): output size after linear_mapping = {}\".format(linear_output.size()))\n",
    "        \n",
    "        linear_output = linear_output.squeeze(-1)\n",
    "        #print(\"From model.forward(): output size after unsqeeze = {}\".format(linear_output.size()))\n",
    "        \n",
    "        # Pass through linear mapping\n",
    "        final_linear_output = self.final_linear_mapping(linear_output) # shape [batch_size, target seq len]\n",
    "        #print(\"From model.forward(): output size after final linear_mapping = {}\".format(final_linear_output.size()))\n",
    "        \n",
    "        # Final output\n",
    "        final_output = self.output(final_linear_output)\n",
    "        #print(\"From model.forward(): final output size = {}\".format(final_output.size()))\n",
    "        \n",
    "        return final_output"
   ]
  },
  {
   "cell_type": "code",
   "execution_count": 15,
   "id": "4ca638a4",
   "metadata": {},
   "outputs": [
    {
     "name": "stdout",
     "output_type": "stream",
     "text": [
      "training_loss: 0.685576319694519\n",
      "training_loss: 0.564555823802948\n",
      "training_loss: 0.4867682158946991\n",
      "training_loss: 0.608303964138031\n",
      "training_loss: 0.4735959470272064\n",
      "training_loss: 0.5465467572212219\n",
      "training_loss: 0.610694408416748\n",
      "training_loss: 0.4964722692966461\n",
      "training_loss: 0.5699364542961121\n",
      "training_loss: 0.5232754349708557\n",
      "training_loss: 0.5453720688819885\n",
      "training_loss: 0.4630308449268341\n",
      "training_loss: 0.5121908187866211\n",
      "training_loss: 0.5647201538085938\n",
      " epoch:0    training_loss: 0.4564690589904785\n",
      "testing_loss: 0.4984474778175354\n",
      "testing_loss: 0.49155256152153015\n",
      "testing_loss: 0.5108937621116638\n",
      "testing_loss: 0.5912500619888306\n",
      "testing_loss: 0.5726398825645447\n",
      "testing_loss: 0.6444536447525024\n",
      " epoch:0    testing_loss: 0.5417424440383911\n",
      "training_loss: 0.4115756154060364\n",
      "training_loss: 0.4879128038883209\n",
      "training_loss: 0.4785189628601074\n",
      "training_loss: 0.5496655702590942\n",
      "training_loss: 0.4446903169155121\n",
      "training_loss: 0.5481194257736206\n",
      "training_loss: 0.5930203795433044\n",
      "training_loss: 0.46385902166366577\n",
      "training_loss: 0.571745753288269\n",
      "training_loss: 0.5356688499450684\n",
      "training_loss: 0.522601306438446\n",
      "training_loss: 0.4566631317138672\n",
      "training_loss: 0.5161373019218445\n",
      "training_loss: 0.5520908832550049\n",
      " epoch:1    training_loss: 0.4481298625469208\n",
      "testing_loss: 0.4972236454486847\n",
      "testing_loss: 0.4760243892669678\n",
      "testing_loss: 0.4909146726131439\n",
      "testing_loss: 0.5472869277000427\n",
      "testing_loss: 0.5667808651924133\n",
      "testing_loss: 0.6226083636283875\n",
      " epoch:1    testing_loss: 0.5154246687889099\n",
      "training_loss: 0.40985122323036194\n",
      "training_loss: 0.47863420844078064\n",
      "training_loss: 0.4797474443912506\n",
      "training_loss: 0.5449228286743164\n",
      "training_loss: 0.4535272419452667\n",
      "training_loss: 0.5379868149757385\n",
      "training_loss: 0.5911590456962585\n",
      "training_loss: 0.452926903963089\n",
      "training_loss: 0.5760484337806702\n",
      "training_loss: 0.5348113775253296\n",
      "training_loss: 0.5080479383468628\n",
      "training_loss: 0.45848163962364197\n",
      "training_loss: 0.5210920572280884\n",
      "training_loss: 0.548448383808136\n",
      " epoch:2    training_loss: 0.4627503752708435\n",
      "testing_loss: 0.49844980239868164\n",
      "testing_loss: 0.4815502464771271\n",
      "testing_loss: 0.4845263659954071\n",
      "testing_loss: 0.5545180439949036\n",
      "testing_loss: 0.5729542970657349\n",
      "testing_loss: 0.6315097808837891\n",
      " epoch:2    testing_loss: 0.5048837661743164\n",
      "training_loss: 0.4039972722530365\n",
      "training_loss: 0.4788127541542053\n",
      "training_loss: 0.484005331993103\n",
      "training_loss: 0.5464524626731873\n",
      "training_loss: 0.4405754506587982\n",
      "training_loss: 0.5267230868339539\n",
      "training_loss: 0.591314971446991\n",
      "training_loss: 0.449807345867157\n",
      "training_loss: 0.5670666098594666\n",
      "training_loss: 0.527927577495575\n",
      "training_loss: 0.5164803862571716\n",
      "training_loss: 0.46047788858413696\n",
      "training_loss: 0.5158483982086182\n",
      "training_loss: 0.5285632014274597\n",
      " epoch:3    training_loss: 0.44035643339157104\n",
      "testing_loss: 0.5007768273353577\n",
      "testing_loss: 0.46586111187934875\n",
      "testing_loss: 0.4830783009529114\n",
      "testing_loss: 0.5522171854972839\n",
      "testing_loss: 0.5732961297035217\n",
      "testing_loss: 0.6122432351112366\n",
      " epoch:3    testing_loss: 0.5088884830474854\n",
      "training_loss: 0.4014926850795746\n",
      "training_loss: 0.4701635539531708\n",
      "training_loss: 0.485797643661499\n",
      "training_loss: 0.5367670059204102\n",
      "training_loss: 0.47084447741508484\n",
      "training_loss: 0.5351119041442871\n",
      "training_loss: 0.5961847305297852\n",
      "training_loss: 0.45591551065444946\n",
      "training_loss: 0.5657076835632324\n",
      "training_loss: 0.5308361649513245\n",
      "training_loss: 0.5185406804084778\n",
      "training_loss: 0.4567641317844391\n",
      "training_loss: 0.5227589011192322\n",
      "training_loss: 0.547416090965271\n",
      " epoch:4    training_loss: 0.4475560784339905\n",
      "testing_loss: 0.49200621247291565\n",
      "testing_loss: 0.4678392708301544\n",
      "testing_loss: 0.47714415192604065\n",
      "testing_loss: 0.5450970530509949\n",
      "testing_loss: 0.5661356449127197\n",
      "testing_loss: 0.6126912832260132\n",
      " epoch:4    testing_loss: 0.5086542367935181\n"
     ]
    }
   ],
   "source": [
    "## Params\n",
    "dim_val = 512\n",
    "n_heads = 8\n",
    "n_encoder_layers = 4\n",
    "dec_seq_len = 11 # length of input given to decoder\n",
    "enc_seq_len = 11 # length of input given to encoder\n",
    "in_features_encoder_linear_layer = 2048\n",
    "max_seq_len = enc_seq_len\n",
    "batch_first = True\n",
    "epochs = 5\n",
    "batch_size=100\n",
    "\n",
    "classifier_model = TimeSeriesClassifier(\n",
    "                input_size=1,\n",
    "                dec_seq_len=enc_seq_len,\n",
    "                batch_first=batch_first\n",
    "                )\n",
    "\n",
    "classifier_model = classifier_model.to(device)\n",
    "\n",
    "optimizer = torch.optim.Adam(classifier_model.parameters(), lr=0.0001)\n",
    "criterion = torch.nn.BCELoss()\n",
    "\n",
    "# Load the training data\n",
    "training_dataloader = DataLoader(training_class, batch_size= batch_size)\n",
    "# Load the testing data\n",
    "testing_dataloader = DataLoader(testing_class, batch_size= batch_size)\n",
    "\n",
    "\n",
    "# training prediction\n",
    "training_truple = ()\n",
    "training_truple_labels = ()\n",
    "# testing prediction\n",
    "testing_truple = ()\n",
    "testing_truple_labels = ()\n",
    "\n",
    "# Iterate over all epochs\n",
    "for epoch in range(epochs):\n",
    "\n",
    "    # Iterate over all (x,y) pairs in training dataloader\n",
    "    for i, (data, labels) in enumerate(training_dataloader):\n",
    "        \n",
    "        # zero the parameter gradients\n",
    "        optimizer.zero_grad()\n",
    "\n",
    "        # Permute from shape [batch size, seq len, num features] to [seq len, batch size, num features]\n",
    "        if batch_first == False:\n",
    "\n",
    "            shape_before = data.shape\n",
    "            data = data.permute(1, 0, 2)\n",
    "            print(\"src shape changed from {} to {}\".format(shape_before, data.shape))\n",
    "\n",
    "            shape_before = labels.shape\n",
    "            labels = labels.permute(1, 0)\n",
    "            print(\"src shape changed from {} to {}\".format(shape_before, labels.shape))\n",
    "\n",
    "        # make prediction\n",
    "        prediction = classifier_model(\n",
    "            src=data\n",
    "            )\n",
    "        #print(prediction)\n",
    "        #print(labels)\n",
    "        \n",
    "        # Compute and backprop loss\n",
    "        loss = criterion(prediction, labels)\n",
    "\n",
    "        loss.backward()\n",
    "\n",
    "        # Take optimizer step\n",
    "        optimizer.step()\n",
    "        \n",
    "        if (i%100 == 0):\n",
    "            print(f'training_loss: {loss}')\n",
    "            \n",
    "        if (epoch == epochs-1):\n",
    "                training_truple += (prediction, )\n",
    "                training_truple_labels +=(labels, )\n",
    "        \n",
    "    print(f' epoch:{epoch}    training_loss: {loss}')\n",
    "        \n",
    "    # Iterate over all (x,y) pairs in validation dataloader\n",
    "    classifier_model.eval()\n",
    "    \n",
    "    with torch.no_grad():\n",
    "    \n",
    "        for j, (data_, labels_) in enumerate(testing_dataloader):\n",
    "\n",
    "            prediction = classifier_model(\n",
    "                src=data_\n",
    "            )\n",
    "            loss = criterion(prediction, labels_)\n",
    "            if (j%100 == 0):\n",
    "                print(f'testing_loss: {loss}')\n",
    "            if (epoch == epochs-1):\n",
    "                testing_truple += (prediction, )\n",
    "                testing_truple_labels +=(labels_, )\n",
    "                \n",
    "    print(f' epoch:{epoch}    testing_loss: {loss}')\n",
    "    "
   ]
  },
  {
   "cell_type": "code",
   "execution_count": 16,
   "id": "62e0a116",
   "metadata": {},
   "outputs": [
    {
     "data": {
      "text/plain": [
       "torch.Size([60000, 1])"
      ]
     },
     "execution_count": 16,
     "metadata": {},
     "output_type": "execute_result"
    }
   ],
   "source": [
    "testing_hat = torch.cat(testing_truple)\n",
    "testing_hat.size()"
   ]
  },
  {
   "cell_type": "code",
   "execution_count": 17,
   "id": "8839ca97",
   "metadata": {},
   "outputs": [
    {
     "data": {
      "text/plain": [
       "torch.Size([60000, 1])"
      ]
     },
     "execution_count": 17,
     "metadata": {},
     "output_type": "execute_result"
    }
   ],
   "source": [
    "testing_org = torch.cat(testing_truple_labels)\n",
    "testing_org.size()"
   ]
  },
  {
   "cell_type": "code",
   "execution_count": 18,
   "id": "efce54f5",
   "metadata": {},
   "outputs": [],
   "source": [
    "y_test = testing_org.data.cpu().numpy()"
   ]
  },
  {
   "cell_type": "code",
   "execution_count": 19,
   "id": "a3f779e5",
   "metadata": {},
   "outputs": [],
   "source": [
    "predictions = testing_hat.data.cpu().numpy()"
   ]
  },
  {
   "cell_type": "code",
   "execution_count": 20,
   "id": "da2dddee",
   "metadata": {},
   "outputs": [],
   "source": [
    "import matplotlib.pyplot as plt\n",
    "from sklearn.metrics import roc_curve, auc\n",
    "from sklearn.metrics import precision_recall_curve\n",
    "from sklearn.metrics import average_precision_score"
   ]
  },
  {
   "cell_type": "code",
   "execution_count": 21,
   "id": "7fa80100",
   "metadata": {},
   "outputs": [
    {
     "name": "stdout",
     "output_type": "stream",
     "text": [
      "test labels are: [1. 0. 0. ... 1. 1. 1.]\n",
      "[[0.37720475]\n",
      " [0.14398283]\n",
      " [0.5136259 ]\n",
      " ...\n",
      " [0.27967367]\n",
      " [0.04657919]\n",
      " [0.6846056 ]]\n",
      "[[0.2841622 ]\n",
      " [0.411312  ]\n",
      " [0.6034487 ]\n",
      " ...\n",
      " [0.6869171 ]\n",
      " [0.27580103]\n",
      " [0.27540877]]\n"
     ]
    },
    {
     "data": {
      "image/png": "[encoded data removed]",
      "text/plain": [
       "<Figure size 432x288 with 1 Axes>"
      ]
     },
     "metadata": {
      "needs_background": "light"
     },
     "output_type": "display_data"
    }
   ],
   "source": [
    "print(f'test labels are: {y_test[:,0]}')\n",
    "\n",
    "# Create separate arrays for background and signal predictions\n",
    "bkg_preds = predictions[y_test[:,0] == 0]\n",
    "sig_preds = predictions[y_test[:,0] == 1]\n",
    "\n",
    "print(bkg_preds)\n",
    "print(sig_preds)\n",
    "# Plot the predicted probabilities\n",
    "plt.hist(bkg_preds, bins=50, label='Background', alpha=0.5, density=True)\n",
    "plt.hist(sig_preds, bins=50, label='Signal', alpha=0.5, density=True, color='green')\n",
    "plt.xlabel('Predicted Probability')\n",
    "plt.ylabel('Number of Events')\n",
    "plt.legend(loc='upper center')\n",
    "#plt.ylim(top=100)\n",
    "plt.show()"
   ]
  },
  {
   "cell_type": "code",
   "execution_count": 22,
   "id": "5d2c8cb4",
   "metadata": {},
   "outputs": [
    {
     "data": {
      "image/png": "[encoded data removed]",
      "text/plain": [
       "<Figure size 432x288 with 1 Axes>"
      ]
     },
     "metadata": {
      "needs_background": "light"
     },
     "output_type": "display_data"
    }
   ],
   "source": [
    "# Compute ROC curve and AUC\n",
    "fpr, tpr, thresholds = roc_curve(y_test, predictions)\n",
    "roc_auc = auc(fpr, tpr)\n",
    "\n",
    "# Plot ROC curve\n",
    "\n",
    "plt.plot(fpr, tpr, color='darkorange', lw=2, label='ROC curve (area = %0.2f)' % roc_auc)\n",
    "plt.plot([0, 1], [0, 1], color='navy', lw=2, linestyle='--')\n",
    "plt.xlabel('False Positive Rate')\n",
    "plt.ylabel('True Positive Rate')\n",
    "plt.title('Receiver Operating Characteristic')\n",
    "plt.legend(loc=\"lower right\")\n",
    "#plt.xlim([0.9, 1])\n",
    "#plt.ylim([0.999, 1.005])\n",
    "plt.show()"
   ]
  },
  {
   "cell_type": "code",
   "execution_count": 23,
   "id": "887caa9d",
   "metadata": {},
   "outputs": [
    {
     "data": {
      "image/png": "[encoded data removed]",
      "text/plain": [
       "<Figure size 432x288 with 1 Axes>"
      ]
     },
     "metadata": {
      "needs_background": "light"
     },
     "output_type": "display_data"
    }
   ],
   "source": [
    "### precision recall curve\n",
    "# Calculate precision-recall curve and average precision\n",
    "precision, recall, _ = precision_recall_curve(y_test, predictions)\n",
    "average_precision = average_precision_score(y_test, predictions)\n",
    "\n",
    "# Plot precision-recall curve\n",
    "plt.step(recall, precision, color='b', alpha=0.2, where='post')\n",
    "plt.fill_between(recall, precision, step='post', alpha=0.2, color='b')\n",
    "plt.xlabel('Recall')\n",
    "plt.ylabel('Precision')\n",
    "plt.ylim([0.0, 1.05])\n",
    "plt.xlim([0.0, 1.0])\n",
    "plt.title('Precision-Recall curve: AP={0:0.2f}'.format(average_precision))\n",
    "plt.show()"
   ]
  },
  {
   "cell_type": "code",
   "execution_count": 36,
   "id": "54dcc750",
   "metadata": {},
   "outputs": [],
   "source": [
    "binary_prediction = predictions > 0.5"
   ]
  },
  {
   "cell_type": "code",
   "execution_count": 37,
   "id": "8f9c924e",
   "metadata": {},
   "outputs": [
    {
     "data": {
      "text/plain": [
       "(60000, 1)"
      ]
     },
     "execution_count": 37,
     "metadata": {},
     "output_type": "execute_result"
    }
   ],
   "source": [
    "y_test.shape"
   ]
  },
  {
   "cell_type": "code",
   "execution_count": 38,
   "id": "d2409e17",
   "metadata": {},
   "outputs": [
    {
     "data": {
      "text/plain": [
       "45416"
      ]
     },
     "execution_count": 38,
     "metadata": {},
     "output_type": "execute_result"
    }
   ],
   "source": [
    "np.count_nonzero(binary_prediction == y_test)"
   ]
  },
  {
   "cell_type": "code",
   "execution_count": null,
   "id": "f5124206",
   "metadata": {},
   "outputs": [],
   "source": []
  }
 ],
 "metadata": {
  "kernelspec": {
   "display_name": "Python 3",
   "language": "python",
   "name": "python3"
  },
  "language_info": {
   "codemirror_mode": {
    "name": "ipython",
    "version": 3
   },
   "file_extension": ".py",
   "mimetype": "text/x-python",
   "name": "python",
   "nbconvert_exporter": "python",
   "pygments_lexer": "ipython3",
   "version": "3.9.12"
  }
 },
 "nbformat": 4,
 "nbformat_minor": 5
}
