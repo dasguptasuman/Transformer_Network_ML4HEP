{
 "cells": [
  {
   "cell_type": "code",
   "execution_count": 1,
   "id": "6d20513c",
   "metadata": {},
   "outputs": [],
   "source": [
    "import numpy as np\n",
    "# Train a model to classify real pulses vs. noise\n",
    "import tensorflow as tf\n",
    "from tensorflow.keras.layers import Input, LSTM, Dense\n",
    "from tensorflow.keras.models import Model\n",
    "import matplotlib.pyplot as plt\n",
    "from sklearn.metrics import roc_curve, auc\n",
    "from sklearn.metrics import precision_recall_curve\n",
    "from sklearn.metrics import average_precision_score\n",
    "import awkward as ak\n",
    "from tensorflow.keras.layers import Dropout\n",
    "from tensorflow import keras\n",
    "from tensorflow.keras import layers"
   ]
  },
  {
   "cell_type": "code",
   "execution_count": 2,
   "id": "68e69dc9",
   "metadata": {},
   "outputs": [],
   "source": [
    "num_events = 50000\n",
    "num_samples = 10\n",
    "xmin = 1\n",
    "xmax = 10"
   ]
  },
  {
   "cell_type": "code",
   "execution_count": 3,
   "id": "21d6914d",
   "metadata": {},
   "outputs": [],
   "source": [
    "def plot_timesamples(ax, time, emsignal_list, noisedata_list):\n",
    "    #fig, ax = plt.subplots()\n",
    "    for i, emsignal in enumerate(emsignal_list):\n",
    "        noisedata = noisedata_list[i][1:]\n",
    "        ax.plot(time, emsignal[1:], label=f'EM pulse' if i==1 else None, color='blue')\n",
    "        ax.plot(time, noisedata, label=f'noise'  if i==1 else None,color='orange')\n",
    "    ax.set_xlabel('Time (ns)')\n",
    "    ax.set_ylabel('Amplitude (arb. units)')\n",
    "    ax.legend()"
   ]
  },
  {
   "cell_type": "code",
   "execution_count": 8,
   "id": "5741b1bf",
   "metadata": {},
   "outputs": [
    {
     "name": "stdout",
     "output_type": "stream",
     "text": [
      "[[-0.13500901 -0.06486101 -0.24207319 ... -0.33857177 -0.65531789\n",
      "  -0.59965165]\n",
      " [-1.         -0.44654846  0.04011444 ... -0.00468594  0.082898\n",
      "   0.16267521]\n",
      " [ 0.12382481  0.06464252  0.20023386 ...  0.91687229  1.\n",
      "   0.97295958]\n",
      " ...\n",
      " [ 0.03826011 -0.74802831 -0.74012889 ...  0.94438525  0.71223759\n",
      "   0.53373214]\n",
      " [ 0.56940722  0.05372832  0.26732516 ...  0.17160948  0.07397752\n",
      "  -0.28824042]\n",
      " [-0.43647409 -0.26998941  0.17765244 ...  0.76181932  0.87472013\n",
      "   0.83904154]]\n",
      "Printing y_real\n",
      "[[1.]\n",
      " [1.]\n",
      " [1.]\n",
      " ...\n",
      " [1.]\n",
      " [1.]\n",
      " [1.]]\n"
     ]
    },
    {
     "data": {
      "image/png": "[encoded data removed]",
      "text/plain": [
       "<Figure size 432x288 with 1 Axes>"
      ]
     },
     "metadata": {
      "needs_background": "light"
     },
     "output_type": "display_data"
    }
   ],
   "source": [
    "import uproot\n",
    "### Energy = 0.15 GeV\n",
    "\n",
    "root_file = uproot.open(f\"/eos/user/d/dasgupsu/SWAN_projects/ECAL_noise_EM_discrimination/data/outputPSWithNoPU_withNoise_0.150000_0.15_v1.root\")\n",
    "tree = root_file[\"Samples\"]\n",
    "arrays = tree.arrays([\"samples\", \"ysamples\",\"samplesNoise\",\"ysamplesNoise\",\"\"])\n",
    "X_real = ak.to_numpy(arrays[\"samples\"])\n",
    "y_real = ak.to_numpy(arrays[\"ysamples\"])\n",
    "X_noise = ak.to_numpy(arrays[\"samplesNoise\"])\n",
    "y_noise = ak.to_numpy(arrays[\"ysamplesNoise\"])\n",
    "\n",
    "print(X_real) \n",
    "print(\"Printing y_real\")\n",
    "print(y_real)\n",
    "\n",
    "data = np.concatenate([X_real, X_noise]) ### makes it [2*num_events,num_samples]\n",
    "labels = np.concatenate([y_real,y_noise])\n",
    "\n",
    "# Shuffle data and labels together\n",
    "## Important to shuffle since I take some fraction of events so it should not happen that all the real events \n",
    "## are cluttered at the beginning\n",
    "shuffle_indices = np.random.permutation(len(data))\n",
    "data = data[shuffle_indices]\n",
    "labels = labels[shuffle_indices]\n",
    "\n",
    "#fig, ax = plt.subplots()\n",
    "import awkward as ak\n",
    "\n",
    "num_events = ak.num(X_real, axis=0)\n",
    "t_events = np.zeros((num_events, num_samples))\n",
    "for i in range(num_events):\n",
    "    t_event = np.linspace(xmin, xmax, 10)\n",
    "    t_events[i] = t_event\n",
    "###replace this block with actual time variable\n",
    "\n",
    "fig, ax = plt.subplots()\n",
    "#ev_numbers = [1, 2, 3, 4, 5, 6, 7, 8, 9 , 10, 100, 200, 300]# list of event numbers to plot\n",
    "ev_numbers = [1500, 120]\n",
    "x_sample = X_real - X_noise\n",
    "emsignal_list = [x_sample[ev_number] for ev_number in ev_numbers]\n",
    "noisedata_list = [X_noise[ev_number] for ev_number in ev_numbers]\n",
    "plot_timesamples(ax, t_events[ev_numbers[0]], emsignal_list, noisedata_list)\n",
    "plt.show()"
   ]
  },
  {
   "cell_type": "code",
   "execution_count": 5,
   "id": "5d160336",
   "metadata": {},
   "outputs": [
    {
     "name": "stdout",
     "output_type": "stream",
     "text": [
      "number of rows in data is 200000\n",
      "number of rows in data is 11\n",
      "Size of training data is 140000\n",
      "number of elements in data : training data : test data : 200000 : 140000 : 60000\n"
     ]
    }
   ],
   "source": [
    "import awkward as ak\n",
    "\n",
    "num_events_data = ak.num(data, axis=0)\n",
    "print(f'number of rows in data is {num_events_data}')\n",
    "\n",
    "\n",
    "ntimeSamples_data = ak.num(data, axis=1)\n",
    "print(f'number of rows in data is {ntimeSamples_data[0]}') ## just take the 0th event\n",
    "\n",
    "# Split into train and test sets\n",
    "train_size = int(0.7 * num_events_data) ###times 2 because the noise is also in the same dataset, so it is 2*num_events\n",
    "train_data = data[:train_size]\n",
    "train_labels = labels[:train_size]\n",
    "test_data = data[train_size:]\n",
    "test_labels = labels[train_size:]\n",
    "\n",
    "print(f'Size of training data is {train_size}')\n",
    "\n",
    "'''\n",
    "print(train_size)\n",
    "print(train_data)\n",
    "print(test_data)\n",
    "'''\n",
    "\n",
    "print(f'number of elements in data : training data : test data : {len(data)} : {len(train_data)} : {len(test_data)}')"
   ]
  },
  {
   "cell_type": "code",
   "execution_count": null,
   "id": "cfcde125",
   "metadata": {},
   "outputs": [],
   "source": []
  },
  {
   "cell_type": "code",
   "execution_count": 6,
   "id": "9f4e1dcf",
   "metadata": {},
   "outputs": [],
   "source": [
    "x_train = train_data\n",
    "y_train = train_labels\n",
    "#n_classes = len(np.unique(y_train))\n",
    "x_test = test_data\n",
    "y_test = test_labels"
   ]
  },
  {
   "cell_type": "code",
   "execution_count": 7,
   "id": "c8599b55",
   "metadata": {},
   "outputs": [],
   "source": [
    "x_train = x_train.reshape((x_train.shape[0], x_train.shape[1], 1))\n",
    "x_test = x_test.reshape((x_test.shape[0], x_test.shape[1], 1))"
   ]
  },
  {
   "cell_type": "code",
   "execution_count": 8,
   "id": "d3a6157e",
   "metadata": {},
   "outputs": [],
   "source": [
    "y_train = y_train.reshape((y_train.shape[0],1))\n",
    "y_test = y_test.reshape((y_test.shape[0],1))"
   ]
  },
  {
   "cell_type": "code",
   "execution_count": 9,
   "id": "2ab9dc24",
   "metadata": {},
   "outputs": [],
   "source": [
    "from tensorflow import keras\n",
    "from tensorflow.keras import layers"
   ]
  },
  {
   "cell_type": "code",
   "execution_count": 10,
   "id": "7ee19cd7",
   "metadata": {},
   "outputs": [],
   "source": [
    "def get_angles(pos, k, d):\n",
    "    i = k // 2\n",
    "    angles = pos / np.power(10000, 2 * i / d)\n",
    "\n",
    "    return angles"
   ]
  },
  {
   "cell_type": "code",
   "execution_count": 11,
   "id": "19a69945",
   "metadata": {},
   "outputs": [],
   "source": [
    "def positional_encoding(positions, d):\n",
    "\n",
    "    angle_rads = get_angles(np.arange(positions)[:, np.newaxis],\n",
    "                            np.arange(d)[np.newaxis, :],\n",
    "                            d)\n",
    "  \n",
    "    angle_rads[:, 0::2] = np.sin(angle_rads[:, 0::2])\n",
    "  \n",
    "    angle_rads[:, 1::2] = np.cos(angle_rads[:, 1::2])\n",
    "\n",
    "    pos_encoding = angle_rads[np.newaxis, ...]\n",
    "\n",
    "    return tf.cast(pos_encoding, dtype=tf.float32)\n"
   ]
  },
  {
   "cell_type": "code",
   "execution_count": 12,
   "id": "3aba084b",
   "metadata": {},
   "outputs": [
    {
     "name": "stdout",
     "output_type": "stream",
     "text": [
      "(1, 11, 1)\n"
     ]
    },
    {
     "data": {
      "image/png": "[encoded data removed]",
      "text/plain": [
       "<Figure size 432x288 with 2 Axes>"
      ]
     },
     "metadata": {
      "needs_background": "light"
     },
     "output_type": "display_data"
    }
   ],
   "source": [
    "pos_encoding = positional_encoding(11, 1)\n",
    "\n",
    "print (pos_encoding.shape)\n",
    "\n",
    "plt.pcolormesh(pos_encoding[0], cmap='RdBu')\n",
    "plt.xlabel('d')\n",
    "plt.xlim((0,2))\n",
    "plt.ylabel('Position')\n",
    "plt.colorbar()\n",
    "plt.show()"
   ]
  },
  {
   "cell_type": "code",
   "execution_count": 13,
   "id": "7289ca4f",
   "metadata": {},
   "outputs": [],
   "source": [
    "def transformer_encoder(inputs, head_size, num_heads, ff_dim, dropout=0):\n",
    "    # Normalization and Attention\n",
    "    x = layers.LayerNormalization(epsilon=1e-6)(inputs)\n",
    "    x = layers.MultiHeadAttention(\n",
    "        key_dim=head_size, num_heads=num_heads, dropout=dropout\n",
    "    )(x, x)\n",
    "    x = layers.Dropout(dropout)(x)\n",
    "    res = x + inputs\n",
    "\n",
    "    # Feed Forward Part\n",
    "    x = layers.LayerNormalization(epsilon=1e-6)(res)\n",
    "    x = layers.Conv1D(filters=ff_dim, kernel_size=1, activation=\"relu\")(x)\n",
    "    x = layers.Dropout(dropout)(x)\n",
    "    x = layers.Conv1D(filters=inputs.shape[-1], kernel_size=1)(x)\n",
    "    return x + res"
   ]
  },
  {
   "cell_type": "code",
   "execution_count": 14,
   "id": "70612ffa",
   "metadata": {},
   "outputs": [],
   "source": [
    "def build_model(\n",
    "    input_shape,\n",
    "    head_size,\n",
    "    num_heads,\n",
    "    ff_dim,\n",
    "    num_transformer_blocks,\n",
    "    mlp_units,\n",
    "    dropout=0,\n",
    "    mlp_dropout=0,\n",
    "):\n",
    "    inputs = keras.Input(shape=input_shape)\n",
    "    x = inputs\n",
    "    x += positional_encoding(input_shape[0],1)\n",
    "    for _ in range(num_transformer_blocks):\n",
    "        x = transformer_encoder(x, head_size, num_heads, ff_dim, dropout)\n",
    "\n",
    "    x = layers.GlobalAveragePooling1D(data_format=\"channels_first\")(x)\n",
    "    for dim in mlp_units:\n",
    "        x = layers.Dense(dim, activation=\"relu\")(x)\n",
    "        x = layers.Dropout(mlp_dropout)(x)\n",
    "    outputs = layers.Dense(1, activation=\"sigmoid\")(x)\n",
    "    return keras.Model(inputs, outputs)"
   ]
  },
  {
   "cell_type": "code",
   "execution_count": 15,
   "id": "1c2b3bd2",
   "metadata": {},
   "outputs": [
    {
     "name": "stdout",
     "output_type": "stream",
     "text": [
      "Model: \"model\"\n",
      "__________________________________________________________________________________________________\n",
      " Layer (type)                   Output Shape         Param #     Connected to                     \n",
      "==================================================================================================\n",
      " input_1 (InputLayer)           [(None, 11, 1)]      0           []                               \n",
      "                                                                                                  \n",
      " tf.__operators__.add (TFOpLamb  (None, 11, 1)       0           ['input_1[0][0]']                \n",
      " da)                                                                                              \n",
      "                                                                                                  \n",
      " layer_normalization (LayerNorm  (None, 11, 1)       2           ['tf.__operators__.add[0][0]']   \n",
      " alization)                                                                                       \n",
      "                                                                                                  \n",
      " multi_head_attention (MultiHea  (None, 11, 1)       7169        ['layer_normalization[0][0]',    \n",
      " dAttention)                                                      'layer_normalization[0][0]']    \n",
      "                                                                                                  \n",
      " dropout (Dropout)              (None, 11, 1)        0           ['multi_head_attention[0][0]']   \n",
      "                                                                                                  \n",
      " tf.__operators__.add_1 (TFOpLa  (None, 11, 1)       0           ['dropout[0][0]',                \n",
      " mbda)                                                            'tf.__operators__.add[0][0]']   \n",
      "                                                                                                  \n",
      " layer_normalization_1 (LayerNo  (None, 11, 1)       2           ['tf.__operators__.add_1[0][0]'] \n",
      " rmalization)                                                                                     \n",
      "                                                                                                  \n",
      " conv1d (Conv1D)                (None, 11, 4)        8           ['layer_normalization_1[0][0]']  \n",
      "                                                                                                  \n",
      " dropout_1 (Dropout)            (None, 11, 4)        0           ['conv1d[0][0]']                 \n",
      "                                                                                                  \n",
      " conv1d_1 (Conv1D)              (None, 11, 1)        5           ['dropout_1[0][0]']              \n",
      "                                                                                                  \n",
      " tf.__operators__.add_2 (TFOpLa  (None, 11, 1)       0           ['conv1d_1[0][0]',               \n",
      " mbda)                                                            'tf.__operators__.add_1[0][0]'] \n",
      "                                                                                                  \n",
      " layer_normalization_2 (LayerNo  (None, 11, 1)       2           ['tf.__operators__.add_2[0][0]'] \n",
      " rmalization)                                                                                     \n",
      "                                                                                                  \n",
      " multi_head_attention_1 (MultiH  (None, 11, 1)       7169        ['layer_normalization_2[0][0]',  \n",
      " eadAttention)                                                    'layer_normalization_2[0][0]']  \n",
      "                                                                                                  \n",
      " dropout_2 (Dropout)            (None, 11, 1)        0           ['multi_head_attention_1[0][0]'] \n",
      "                                                                                                  \n",
      " tf.__operators__.add_3 (TFOpLa  (None, 11, 1)       0           ['dropout_2[0][0]',              \n",
      " mbda)                                                            'tf.__operators__.add_2[0][0]'] \n",
      "                                                                                                  \n",
      " layer_normalization_3 (LayerNo  (None, 11, 1)       2           ['tf.__operators__.add_3[0][0]'] \n",
      " rmalization)                                                                                     \n",
      "                                                                                                  \n",
      " conv1d_2 (Conv1D)              (None, 11, 4)        8           ['layer_normalization_3[0][0]']  \n",
      "                                                                                                  \n",
      " dropout_3 (Dropout)            (None, 11, 4)        0           ['conv1d_2[0][0]']               \n",
      "                                                                                                  \n",
      " conv1d_3 (Conv1D)              (None, 11, 1)        5           ['dropout_3[0][0]']              \n",
      "                                                                                                  \n",
      " tf.__operators__.add_4 (TFOpLa  (None, 11, 1)       0           ['conv1d_3[0][0]',               \n",
      " mbda)                                                            'tf.__operators__.add_3[0][0]'] \n",
      "                                                                                                  \n",
      " layer_normalization_4 (LayerNo  (None, 11, 1)       2           ['tf.__operators__.add_4[0][0]'] \n",
      " rmalization)                                                                                     \n",
      "                                                                                                  \n",
      " multi_head_attention_2 (MultiH  (None, 11, 1)       7169        ['layer_normalization_4[0][0]',  \n",
      " eadAttention)                                                    'layer_normalization_4[0][0]']  \n",
      "                                                                                                  \n",
      " dropout_4 (Dropout)            (None, 11, 1)        0           ['multi_head_attention_2[0][0]'] \n",
      "                                                                                                  \n",
      " tf.__operators__.add_5 (TFOpLa  (None, 11, 1)       0           ['dropout_4[0][0]',              \n",
      " mbda)                                                            'tf.__operators__.add_4[0][0]'] \n",
      "                                                                                                  \n",
      " layer_normalization_5 (LayerNo  (None, 11, 1)       2           ['tf.__operators__.add_5[0][0]'] \n",
      " rmalization)                                                                                     \n",
      "                                                                                                  \n",
      " conv1d_4 (Conv1D)              (None, 11, 4)        8           ['layer_normalization_5[0][0]']  \n",
      "                                                                                                  \n",
      " dropout_5 (Dropout)            (None, 11, 4)        0           ['conv1d_4[0][0]']               \n",
      "                                                                                                  \n",
      " conv1d_5 (Conv1D)              (None, 11, 1)        5           ['dropout_5[0][0]']              \n",
      "                                                                                                  \n",
      " tf.__operators__.add_6 (TFOpLa  (None, 11, 1)       0           ['conv1d_5[0][0]',               \n",
      " mbda)                                                            'tf.__operators__.add_5[0][0]'] \n",
      "                                                                                                  \n",
      " layer_normalization_6 (LayerNo  (None, 11, 1)       2           ['tf.__operators__.add_6[0][0]'] \n",
      " rmalization)                                                                                     \n",
      "                                                                                                  \n",
      " multi_head_attention_3 (MultiH  (None, 11, 1)       7169        ['layer_normalization_6[0][0]',  \n",
      " eadAttention)                                                    'layer_normalization_6[0][0]']  \n",
      "                                                                                                  \n"
     ]
    },
    {
     "name": "stdout",
     "output_type": "stream",
     "text": [
      " dropout_6 (Dropout)            (None, 11, 1)        0           ['multi_head_attention_3[0][0]'] \n",
      "                                                                                                  \n",
      " tf.__operators__.add_7 (TFOpLa  (None, 11, 1)       0           ['dropout_6[0][0]',              \n",
      " mbda)                                                            'tf.__operators__.add_6[0][0]'] \n",
      "                                                                                                  \n",
      " layer_normalization_7 (LayerNo  (None, 11, 1)       2           ['tf.__operators__.add_7[0][0]'] \n",
      " rmalization)                                                                                     \n",
      "                                                                                                  \n",
      " conv1d_6 (Conv1D)              (None, 11, 4)        8           ['layer_normalization_7[0][0]']  \n",
      "                                                                                                  \n",
      " dropout_7 (Dropout)            (None, 11, 4)        0           ['conv1d_6[0][0]']               \n",
      "                                                                                                  \n",
      " conv1d_7 (Conv1D)              (None, 11, 1)        5           ['dropout_7[0][0]']              \n",
      "                                                                                                  \n",
      " tf.__operators__.add_8 (TFOpLa  (None, 11, 1)       0           ['conv1d_7[0][0]',               \n",
      " mbda)                                                            'tf.__operators__.add_7[0][0]'] \n",
      "                                                                                                  \n",
      " global_average_pooling1d (Glob  (None, 11)          0           ['tf.__operators__.add_8[0][0]'] \n",
      " alAveragePooling1D)                                                                              \n",
      "                                                                                                  \n",
      " dense (Dense)                  (None, 128)          1536        ['global_average_pooling1d[0][0]'\n",
      "                                                                 ]                                \n",
      "                                                                                                  \n",
      " dropout_8 (Dropout)            (None, 128)          0           ['dense[0][0]']                  \n",
      "                                                                                                  \n",
      " dense_1 (Dense)                (None, 1)            129         ['dropout_8[0][0]']              \n",
      "                                                                                                  \n",
      "==================================================================================================\n",
      "Total params: 30,409\n",
      "Trainable params: 30,409\n",
      "Non-trainable params: 0\n",
      "__________________________________________________________________________________________________\n",
      "Epoch 1/30\n",
      "1750/1750 [==============================] - 32s 14ms/step - loss: 0.5351 - accuracy: 0.7369 - val_loss: 0.5105 - val_accuracy: 0.7570\n",
      "Epoch 2/30\n",
      "1750/1750 [==============================] - 23s 13ms/step - loss: 0.5146 - accuracy: 0.7540 - val_loss: 0.4996 - val_accuracy: 0.7636\n",
      "Epoch 3/30\n",
      "1750/1750 [==============================] - 23s 13ms/step - loss: 0.5119 - accuracy: 0.7562 - val_loss: 0.5004 - val_accuracy: 0.7633\n",
      "Epoch 4/30\n",
      "1750/1750 [==============================] - 24s 13ms/step - loss: 0.5112 - accuracy: 0.7565 - val_loss: 0.4978 - val_accuracy: 0.7640\n",
      "Epoch 5/30\n",
      "1750/1750 [==============================] - 23s 13ms/step - loss: 0.5100 - accuracy: 0.7579 - val_loss: 0.4982 - val_accuracy: 0.7632\n",
      "Epoch 6/30\n",
      "1750/1750 [==============================] - 23s 13ms/step - loss: 0.5099 - accuracy: 0.7569 - val_loss: 0.4994 - val_accuracy: 0.7641\n",
      "Epoch 7/30\n",
      "1750/1750 [==============================] - 23s 13ms/step - loss: 0.5100 - accuracy: 0.7576 - val_loss: 0.4974 - val_accuracy: 0.7651\n",
      "Epoch 8/30\n",
      "1750/1750 [==============================] - 23s 13ms/step - loss: 0.5092 - accuracy: 0.7575 - val_loss: 0.4986 - val_accuracy: 0.7636\n",
      "Epoch 9/30\n",
      "1750/1750 [==============================] - 23s 13ms/step - loss: 0.5096 - accuracy: 0.7575 - val_loss: 0.4970 - val_accuracy: 0.7665\n",
      "Epoch 10/30\n",
      "1750/1750 [==============================] - 23s 13ms/step - loss: 0.5088 - accuracy: 0.7575 - val_loss: 0.4986 - val_accuracy: 0.7645\n",
      "Epoch 11/30\n",
      "1750/1750 [==============================] - 23s 13ms/step - loss: 0.5081 - accuracy: 0.7585 - val_loss: 0.4992 - val_accuracy: 0.7647\n",
      "Epoch 12/30\n",
      "1750/1750 [==============================] - 23s 13ms/step - loss: 0.5083 - accuracy: 0.7577 - val_loss: 0.4980 - val_accuracy: 0.7657\n",
      "Epoch 13/30\n",
      "1750/1750 [==============================] - 24s 14ms/step - loss: 0.5086 - accuracy: 0.7576 - val_loss: 0.5005 - val_accuracy: 0.7651\n",
      "Epoch 14/30\n",
      "1750/1750 [==============================] - 23s 13ms/step - loss: 0.5084 - accuracy: 0.7582 - val_loss: 0.4973 - val_accuracy: 0.7645\n",
      "Epoch 15/30\n",
      "1750/1750 [==============================] - 23s 13ms/step - loss: 0.5079 - accuracy: 0.7583 - val_loss: 0.4978 - val_accuracy: 0.7666\n",
      "Epoch 16/30\n",
      "1750/1750 [==============================] - 24s 13ms/step - loss: 0.5081 - accuracy: 0.7582 - val_loss: 0.4979 - val_accuracy: 0.7641\n",
      "Epoch 17/30\n",
      "1750/1750 [==============================] - 23s 13ms/step - loss: 0.5088 - accuracy: 0.7572 - val_loss: 0.4966 - val_accuracy: 0.7662\n",
      "Epoch 18/30\n",
      "1750/1750 [==============================] - 23s 13ms/step - loss: 0.5079 - accuracy: 0.7578 - val_loss: 0.4969 - val_accuracy: 0.7667\n",
      "Epoch 19/30\n",
      "1750/1750 [==============================] - 23s 13ms/step - loss: 0.5081 - accuracy: 0.7583 - val_loss: 0.4980 - val_accuracy: 0.7665\n",
      "Epoch 20/30\n",
      "1750/1750 [==============================] - 24s 13ms/step - loss: 0.5077 - accuracy: 0.7573 - val_loss: 0.4980 - val_accuracy: 0.7625\n",
      "Epoch 21/30\n",
      "1750/1750 [==============================] - 23s 13ms/step - loss: 0.5077 - accuracy: 0.7580 - val_loss: 0.4978 - val_accuracy: 0.7643\n",
      "Epoch 22/30\n",
      "1750/1750 [==============================] - 23s 13ms/step - loss: 0.5075 - accuracy: 0.7579 - val_loss: 0.4972 - val_accuracy: 0.7651\n",
      "Epoch 23/30\n",
      "1750/1750 [==============================] - 23s 13ms/step - loss: 0.5076 - accuracy: 0.7583 - val_loss: 0.4965 - val_accuracy: 0.7666\n",
      "Epoch 24/30\n",
      "1750/1750 [==============================] - 23s 13ms/step - loss: 0.5072 - accuracy: 0.7573 - val_loss: 0.4965 - val_accuracy: 0.7654\n",
      "Epoch 25/30\n",
      "1750/1750 [==============================] - 24s 14ms/step - loss: 0.5070 - accuracy: 0.7581 - val_loss: 0.4965 - val_accuracy: 0.7658\n",
      "Epoch 26/30\n",
      "1750/1750 [==============================] - 24s 14ms/step - loss: 0.5069 - accuracy: 0.7575 - val_loss: 0.4965 - val_accuracy: 0.7657\n",
      "Epoch 27/30\n",
      "1750/1750 [==============================] - 23s 13ms/step - loss: 0.5069 - accuracy: 0.7584 - val_loss: 0.4963 - val_accuracy: 0.7668\n",
      "Epoch 28/30\n",
      "1750/1750 [==============================] - 23s 13ms/step - loss: 0.5076 - accuracy: 0.7581 - val_loss: 0.4968 - val_accuracy: 0.7666\n",
      "Epoch 29/30\n",
      "1750/1750 [==============================] - 25s 14ms/step - loss: 0.5065 - accuracy: 0.7594 - val_loss: 0.4975 - val_accuracy: 0.7649\n",
      "Epoch 30/30\n",
      "1750/1750 [==============================] - 23s 13ms/step - loss: 0.5071 - accuracy: 0.7588 - val_loss: 0.4972 - val_accuracy: 0.7651\n",
      "1875/1875 [==============================] - 12s 6ms/step - loss: 0.5011 - accuracy: 0.7602\n",
      "Test loss: 0.5011410713195801, Test accuracy: 0.7602499723434448\n"
     ]
    }
   ],
   "source": [
    "input_shape = x_train.shape[1:]\n",
    "\n",
    "model = build_model(\n",
    "    input_shape,\n",
    "    head_size=256,\n",
    "    num_heads=4,\n",
    "    ff_dim=4,\n",
    "    num_transformer_blocks=4,\n",
    "    mlp_units=[128],\n",
    "    mlp_dropout=0.4,\n",
    "    dropout=0.25,\n",
    ")\n",
    "\n",
    "#model.compile(\n",
    "#    loss=\"sparse_categorical_crossentropy\",\n",
    "#    optimizer=keras.optimizers.Adam(learning_rate=1e-4),\n",
    "#    metrics=[\"sparse_categorical_accuracy\"],\n",
    "#)\n",
    "model.compile(optimizer='adam', loss='binary_crossentropy', metrics=['accuracy'])\n",
    "\n",
    "model.summary()\n",
    "\n",
    "callbacks = [keras.callbacks.EarlyStopping(patience=10, restore_best_weights=True)]\n",
    "\n",
    "history = model.fit(\n",
    "    x_train,\n",
    "    y_train,\n",
    "    validation_split=0.2,\n",
    "    epochs=30,\n",
    "    batch_size=64,\n",
    "    callbacks=callbacks,\n",
    ")\n",
    "\n",
    "# Save the model to a file\n",
    "#model.save('/eos/user/d/dasgupsu/SWAN_projects/ECAL_noise_EM_discrimination/model/timeSeries_TransformerNetorkmodel_v3.h5')\n",
    "test_loss, test_acc = model.evaluate(x_test, y_test)\n",
    "print(f'Test loss: {test_loss}, Test accuracy: {test_acc}')"
   ]
  },
  {
   "cell_type": "code",
   "execution_count": 16,
   "id": "4b334e93",
   "metadata": {},
   "outputs": [
    {
     "data": {
      "image/png": "[encoded data removed]",
      "text/plain": [
       "<Figure size 432x288 with 1 Axes>"
      ]
     },
     "metadata": {
      "needs_background": "light"
     },
     "output_type": "display_data"
    },
    {
     "data": {
      "image/png": "[encoded data removed]",
      "text/plain": [
       "<Figure size 432x288 with 1 Axes>"
      ]
     },
     "metadata": {
      "needs_background": "light"
     },
     "output_type": "display_data"
    }
   ],
   "source": [
    "# Plot accuracy\n",
    "plt.plot(history.history['accuracy'])\n",
    "plt.plot(history.history['val_accuracy'])\n",
    "plt.title('Model Accuracy')\n",
    "plt.ylabel('Accuracy')\n",
    "plt.xlabel('Epoch')\n",
    "plt.legend(['Train', 'Validation'], loc='upper left')\n",
    "plt.show()\n",
    "\n",
    "# Plot loss\n",
    "plt.plot(history.history['loss'])\n",
    "plt.plot(history.history['val_loss'])\n",
    "plt.title('Model Loss')\n",
    "plt.ylabel('Loss')\n",
    "plt.xlabel('Epoch')\n",
    "plt.legend(['Train', 'Validation'], loc='upper left')\n",
    "plt.show()"
   ]
  },
  {
   "cell_type": "code",
   "execution_count": 17,
   "id": "cd83daba",
   "metadata": {},
   "outputs": [
    {
     "name": "stdout",
     "output_type": "stream",
     "text": [
      "60000 and 60000\n",
      " predictions are [0.19788611 0.0014287  0.22390538 ... 0.7528883  0.794726   0.8185432 ]\n"
     ]
    },
    {
     "data": {
      "image/png": "[encoded data removed]",
      "text/plain": [
       "<Figure size 432x288 with 1 Axes>"
      ]
     },
     "metadata": {
      "needs_background": "light"
     },
     "output_type": "display_data"
    }
   ],
   "source": [
    "# Make predictions on test data\n",
    "predictions = model.predict(x_test).flatten()\n",
    "# Convert predictions to binary labels\n",
    "binary_predictions = (predictions > 0.5).astype(int)\n",
    "\n",
    "print(f'{len(y_test)} and {len(binary_predictions)}')\n",
    "print(f\" predictions are {predictions}\")\n",
    "# Create scatter plot of true labels vs. predicted labels\n",
    "plt.scatter(y_test, predictions, alpha=0.1)\n",
    "plt.xlabel('True Labels')\n",
    "plt.ylabel('Predicted Labels')\n",
    "plt.title('True Labels vs. Predicted Labels')\n",
    "plt.show()"
   ]
  },
  {
   "cell_type": "code",
   "execution_count": 18,
   "id": "bbe8510c",
   "metadata": {},
   "outputs": [
    {
     "name": "stdout",
     "output_type": "stream",
     "text": [
      "test labels are: [1. 0. 0. ... 1. 1. 1.]\n",
      "[0.0014287  0.22390538 0.16912545 ... 0.04817994 0.32625026 0.07274629]\n",
      "[0.19788611 0.19332455 0.6588096  ... 0.7528883  0.794726   0.8185432 ]\n"
     ]
    },
    {
     "data": {
      "image/png": "[encoded data removed]",
      "text/plain": [
       "<Figure size 432x288 with 1 Axes>"
      ]
     },
     "metadata": {
      "needs_background": "light"
     },
     "output_type": "display_data"
    }
   ],
   "source": [
    "print(f'test labels are: {y_test[:,0]}')\n",
    "\n",
    "# Create separate arrays for background and signal predictions\n",
    "bkg_preds = predictions[y_test[:,0] == 0]\n",
    "sig_preds = predictions[y_test[:,0] == 1]\n",
    "\n",
    "print(bkg_preds)\n",
    "print(sig_preds)\n",
    "# Plot the predicted probabilities\n",
    "plt.hist(bkg_preds, bins=50, label='Background', alpha=0.5, density=True)\n",
    "plt.hist(sig_preds, bins=50, label='Signal', alpha=0.5, density=True, color='green')\n",
    "plt.xlabel('Predicted Probability')\n",
    "plt.ylabel('Number of Events')\n",
    "plt.legend(loc='upper center')\n",
    "#plt.ylim(top=100)\n",
    "plt.show()"
   ]
  },
  {
   "cell_type": "code",
   "execution_count": 19,
   "id": "2ce8a27b",
   "metadata": {},
   "outputs": [
    {
     "data": {
      "image/png": "[encoded data removed]",
      "text/plain": [
       "<Figure size 432x288 with 1 Axes>"
      ]
     },
     "metadata": {
      "needs_background": "light"
     },
     "output_type": "display_data"
    }
   ],
   "source": [
    "# Compute ROC curve and AUC\n",
    "fpr, tpr, thresholds = roc_curve(y_test, predictions)\n",
    "roc_auc = auc(fpr, tpr)\n",
    "\n",
    "# Plot ROC curve\n",
    "\n",
    "plt.plot(fpr, tpr, color='darkorange', lw=2, label='ROC curve (area = %0.2f)' % roc_auc)\n",
    "plt.plot([0, 1], [0, 1], color='navy', lw=2, linestyle='--')\n",
    "plt.xlabel('False Positive Rate')\n",
    "plt.ylabel('True Positive Rate')\n",
    "plt.title('Receiver Operating Characteristic')\n",
    "plt.legend(loc=\"lower right\")\n",
    "#plt.xlim([0.9, 1])\n",
    "#plt.ylim([0.999, 1.005])\n",
    "plt.show()"
   ]
  },
  {
   "cell_type": "code",
   "execution_count": 20,
   "id": "04d7b0f3",
   "metadata": {},
   "outputs": [
    {
     "data": {
      "image/png": "[encoded data removed]",
      "text/plain": [
       "<Figure size 432x288 with 1 Axes>"
      ]
     },
     "metadata": {
      "needs_background": "light"
     },
     "output_type": "display_data"
    }
   ],
   "source": [
    "### precision recall curve\n",
    "# Calculate precision-recall curve and average precision\n",
    "precision, recall, _ = precision_recall_curve(y_test, predictions)\n",
    "average_precision = average_precision_score(y_test, predictions)\n",
    "\n",
    "# Plot precision-recall curve\n",
    "plt.step(recall, precision, color='b', alpha=0.2, where='post')\n",
    "plt.fill_between(recall, precision, step='post', alpha=0.2, color='b')\n",
    "plt.xlabel('Recall')\n",
    "plt.ylabel('Precision')\n",
    "plt.ylim([0.0, 1.05])\n",
    "plt.xlim([0.0, 1.0])\n",
    "plt.title('Precision-Recall curve: AP={0:0.2f}'.format(average_precision))\n",
    "plt.show()"
   ]
  },
  {
   "cell_type": "code",
   "execution_count": null,
   "id": "09d4e3a4",
   "metadata": {},
   "outputs": [],
   "source": []
  }
 ],
 "metadata": {
  "@webio": {
   "lastCommId": null,
   "lastKernelId": null
  },
  "kernelspec": {
   "display_name": "Python 3",
   "language": "python",
   "name": "python3"
  },
  "language_info": {
   "codemirror_mode": {
    "name": "ipython",
    "version": 3
   },
   "file_extension": ".py",
   "mimetype": "text/x-python",
   "name": "python",
   "nbconvert_exporter": "python",
   "pygments_lexer": "ipython3",
   "version": "3.9.12"
  }
 },
 "nbformat": 4,
 "nbformat_minor": 5
}
